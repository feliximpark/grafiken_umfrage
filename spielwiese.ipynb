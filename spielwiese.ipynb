{
 "cells": [
  {
   "cell_type": "code",
   "execution_count": 1,
   "metadata": {},
   "outputs": [],
   "source": [
    "import pandas as pd"
   ]
  },
  {
   "cell_type": "code",
   "execution_count": 16,
   "metadata": {},
   "outputs": [
    {
     "data": {
      "text/plain": [
       "Index(['RND Umfrage Vorlage Politik-in-Umfrage ET 3004', 'Unnamed: 1',\n",
       "       'Unnamed: 2', 'Unnamed: 3', 'Unnamed: 4', 'Unnamed: 5', 'Unnamed: 6',\n",
       "       'Unnamed: 7', 'Unnamed: 8'],\n",
       "      dtype='object')"
      ]
     },
     "execution_count": 16,
     "metadata": {},
     "output_type": "execute_result"
    }
   ],
   "source": [
    "df = pd.read_excel(\"./nisa.xlsx\")\n",
    "df.columns"
   ]
  },
  {
   "cell_type": "markdown",
   "metadata": {},
   "source": [
    "# Niedersachsen"
   ]
  },
  {
   "cell_type": "code",
   "execution_count": 10,
   "metadata": {},
   "outputs": [],
   "source": [
    "# Excel-Datei einlesen\n",
    "df = pd.read_excel(\"./data_in/nisa.xlsx\")\n"
   ]
  },
  {
   "cell_type": "code",
   "execution_count": 12,
   "metadata": {},
   "outputs": [
    {
     "name": "stdout",
     "output_type": "stream",
     "text": [
      "Identifizierte Überschrift: Lars Klingbeil (SPD) wird Vizekanzler: Was halten Sie davon?\n"
     ]
    }
   ],
   "source": [
    "# Überschrift identifizieren\n",
    "# Wir suchen in der Spalte \"Unnamed: 6\" den Eintrag in Zeile 0 und entfernen \"1. \" am Anfang\n",
    "überschrift = df[\"Unnamed: 6\"][0]\n",
    "if überschrift.startswith(\"1. \"):\n",
    "    überschrift = überschrift[3:]  # Entferne \"1. \" am Anfang\n",
    "\n",
    "print(f\"Identifizierte Überschrift: {überschrift}\")\n"
   ]
  },
  {
   "cell_type": "code",
   "execution_count": null,
   "metadata": {},
   "outputs": [],
   "source": [
    "üs = \"Lars Klingbeil (SPD) wird Vizekanzler: Was halten Sie davon?\"\n",
    "# Neue Spaltennamen generieren\n",
    "new_columns = []\n",
    "for i, col in enumerate(df.columns):\n",
    "    if i <= 5:\n",
    "        new_columns.append(df.iloc[0, i])\n",
    "    else:\n",
    "        new_columns.append(df.iloc[2, i])\n",
    "\n",
    "# Spaltennamen setzen\n",
    "df.columns = new_columns\n",
    "\n",
    "# Die Hilfszeilen entfernen (Zeile 0, 1 und 2)\n",
    "df = df.iloc[3:].reset_index(drop=True)\n",
    "\n",
    "# Ersetze den Haken durch 1\n",
    "df = df.replace('✓', 1)\n",
    "\n",
    "# Ersetze alle NaN-Werte durch 0\n",
    "df = df.fillna(0)\n"
   ]
  },
  {
   "cell_type": "code",
   "execution_count": 9,
   "metadata": {},
   "outputs": [
    {
     "data": {
      "text/html": [
       "<div>\n",
       "<style scoped>\n",
       "    .dataframe tbody tr th:only-of-type {\n",
       "        vertical-align: middle;\n",
       "    }\n",
       "\n",
       "    .dataframe tbody tr th {\n",
       "        vertical-align: top;\n",
       "    }\n",
       "\n",
       "    .dataframe thead th {\n",
       "        text-align: right;\n",
       "    }\n",
       "</style>\n",
       "<table border=\"1\" class=\"dataframe\">\n",
       "  <thead>\n",
       "    <tr style=\"text-align: right;\">\n",
       "      <th></th>\n",
       "      <th>Titel</th>\n",
       "      <th>Datum</th>\n",
       "      <th>IP-Adresse\\n(anonymisiert)</th>\n",
       "      <th>IP Duplikat</th>\n",
       "      <th>Aktionsnr.</th>\n",
       "      <th>Herkunft</th>\n",
       "      <th>Eine gute Wahl</th>\n",
       "      <th>Ich finde ihn überbewertet</th>\n",
       "      <th>Soll er doch erstmal zeigen, was er kann</th>\n",
       "    </tr>\n",
       "  </thead>\n",
       "  <tbody>\n",
       "    <tr>\n",
       "      <th>0</th>\n",
       "      <td>RND</td>\n",
       "      <td>2025-05-02 05:38:49</td>\n",
       "      <td>50cb7ef3d2e2</td>\n",
       "      <td>0.0</td>\n",
       "      <td>00000</td>\n",
       "      <td>aktion.rnd.de</td>\n",
       "      <td>1.0</td>\n",
       "      <td>0.0</td>\n",
       "      <td>0.0</td>\n",
       "    </tr>\n",
       "    <tr>\n",
       "      <th>1</th>\n",
       "      <td>RND</td>\n",
       "      <td>2025-05-02 05:39:16</td>\n",
       "      <td>7d7f08b12e2c</td>\n",
       "      <td>0.0</td>\n",
       "      <td>00000</td>\n",
       "      <td>aktion.rnd.de</td>\n",
       "      <td>0.0</td>\n",
       "      <td>1.0</td>\n",
       "      <td>0.0</td>\n",
       "    </tr>\n",
       "    <tr>\n",
       "      <th>2</th>\n",
       "      <td>RND</td>\n",
       "      <td>2025-05-02 05:42:24</td>\n",
       "      <td>d0dd85256f4f</td>\n",
       "      <td>0.0</td>\n",
       "      <td>00000</td>\n",
       "      <td>aktion.rnd.de</td>\n",
       "      <td>0.0</td>\n",
       "      <td>1.0</td>\n",
       "      <td>0.0</td>\n",
       "    </tr>\n",
       "    <tr>\n",
       "      <th>3</th>\n",
       "      <td>RND</td>\n",
       "      <td>2025-05-02 05:43:06</td>\n",
       "      <td>beeb581fbe08</td>\n",
       "      <td>0.0</td>\n",
       "      <td>00000</td>\n",
       "      <td>aktion.rnd.de</td>\n",
       "      <td>1.0</td>\n",
       "      <td>0.0</td>\n",
       "      <td>0.0</td>\n",
       "    </tr>\n",
       "    <tr>\n",
       "      <th>4</th>\n",
       "      <td>RND</td>\n",
       "      <td>2025-05-02 05:43:23</td>\n",
       "      <td>7e7a6e654548</td>\n",
       "      <td>0.0</td>\n",
       "      <td>00000</td>\n",
       "      <td>aktion.rnd.de</td>\n",
       "      <td>1.0</td>\n",
       "      <td>0.0</td>\n",
       "      <td>0.0</td>\n",
       "    </tr>\n",
       "    <tr>\n",
       "      <th>...</th>\n",
       "      <td>...</td>\n",
       "      <td>...</td>\n",
       "      <td>...</td>\n",
       "      <td>...</td>\n",
       "      <td>...</td>\n",
       "      <td>...</td>\n",
       "      <td>...</td>\n",
       "      <td>...</td>\n",
       "      <td>...</td>\n",
       "    </tr>\n",
       "    <tr>\n",
       "      <th>716</th>\n",
       "      <td>RND</td>\n",
       "      <td>2025-05-02 16:43:49</td>\n",
       "      <td>7a2bfbf99b2b</td>\n",
       "      <td>0.0</td>\n",
       "      <td>00000</td>\n",
       "      <td>aktion.rnd.de</td>\n",
       "      <td>0.0</td>\n",
       "      <td>1.0</td>\n",
       "      <td>0.0</td>\n",
       "    </tr>\n",
       "    <tr>\n",
       "      <th>717</th>\n",
       "      <td>RND</td>\n",
       "      <td>2025-05-02 16:46:36</td>\n",
       "      <td>dc439440643a</td>\n",
       "      <td>0.0</td>\n",
       "      <td>00000</td>\n",
       "      <td>aktion.rnd.de</td>\n",
       "      <td>0.0</td>\n",
       "      <td>0.0</td>\n",
       "      <td>1.0</td>\n",
       "    </tr>\n",
       "    <tr>\n",
       "      <th>718</th>\n",
       "      <td>RND</td>\n",
       "      <td>2025-05-02 16:51:20</td>\n",
       "      <td>f71e9311fab2</td>\n",
       "      <td>0.0</td>\n",
       "      <td>00000</td>\n",
       "      <td>aktion.rnd.de</td>\n",
       "      <td>0.0</td>\n",
       "      <td>0.0</td>\n",
       "      <td>1.0</td>\n",
       "    </tr>\n",
       "    <tr>\n",
       "      <th>719</th>\n",
       "      <td>RND</td>\n",
       "      <td>2025-05-02 16:52:36</td>\n",
       "      <td>1788d3fad2fb</td>\n",
       "      <td>0.0</td>\n",
       "      <td>00000</td>\n",
       "      <td>aktion.rnd.de</td>\n",
       "      <td>1.0</td>\n",
       "      <td>0.0</td>\n",
       "      <td>0.0</td>\n",
       "    </tr>\n",
       "    <tr>\n",
       "      <th>720</th>\n",
       "      <td>RND</td>\n",
       "      <td>2025-05-02 16:54:24</td>\n",
       "      <td>6903699ba4bd</td>\n",
       "      <td>0.0</td>\n",
       "      <td>00000</td>\n",
       "      <td>mail.vodafone.de</td>\n",
       "      <td>0.0</td>\n",
       "      <td>1.0</td>\n",
       "      <td>0.0</td>\n",
       "    </tr>\n",
       "  </tbody>\n",
       "</table>\n",
       "<p>721 rows × 9 columns</p>\n",
       "</div>"
      ],
      "text/plain": [
       "    Titel               Datum IP-Adresse\\n(anonymisiert)  IP Duplikat  \\\n",
       "0     RND 2025-05-02 05:38:49               50cb7ef3d2e2          0.0   \n",
       "1     RND 2025-05-02 05:39:16               7d7f08b12e2c          0.0   \n",
       "2     RND 2025-05-02 05:42:24               d0dd85256f4f          0.0   \n",
       "3     RND 2025-05-02 05:43:06               beeb581fbe08          0.0   \n",
       "4     RND 2025-05-02 05:43:23               7e7a6e654548          0.0   \n",
       "..    ...                 ...                        ...          ...   \n",
       "716   RND 2025-05-02 16:43:49               7a2bfbf99b2b          0.0   \n",
       "717   RND 2025-05-02 16:46:36               dc439440643a          0.0   \n",
       "718   RND 2025-05-02 16:51:20               f71e9311fab2          0.0   \n",
       "719   RND 2025-05-02 16:52:36               1788d3fad2fb          0.0   \n",
       "720   RND 2025-05-02 16:54:24               6903699ba4bd          0.0   \n",
       "\n",
       "    Aktionsnr.          Herkunft  Eine gute Wahl  Ich finde ihn überbewertet  \\\n",
       "0        00000     aktion.rnd.de             1.0                         0.0   \n",
       "1        00000     aktion.rnd.de             0.0                         1.0   \n",
       "2        00000     aktion.rnd.de             0.0                         1.0   \n",
       "3        00000     aktion.rnd.de             1.0                         0.0   \n",
       "4        00000     aktion.rnd.de             1.0                         0.0   \n",
       "..         ...               ...             ...                         ...   \n",
       "716      00000     aktion.rnd.de             0.0                         1.0   \n",
       "717      00000     aktion.rnd.de             0.0                         0.0   \n",
       "718      00000     aktion.rnd.de             0.0                         0.0   \n",
       "719      00000     aktion.rnd.de             1.0                         0.0   \n",
       "720      00000  mail.vodafone.de             0.0                         1.0   \n",
       "\n",
       "     Soll er doch erstmal zeigen, was er kann  \n",
       "0                                         0.0  \n",
       "1                                         0.0  \n",
       "2                                         0.0  \n",
       "3                                         0.0  \n",
       "4                                         0.0  \n",
       "..                                        ...  \n",
       "716                                       0.0  \n",
       "717                                       1.0  \n",
       "718                                       1.0  \n",
       "719                                       0.0  \n",
       "720                                       0.0  \n",
       "\n",
       "[721 rows x 9 columns]"
      ]
     },
     "execution_count": 9,
     "metadata": {},
     "output_type": "execute_result"
    }
   ],
   "source": [
    "df"
   ]
  },
  {
   "cell_type": "code",
   "execution_count": 6,
   "metadata": {},
   "outputs": [
    {
     "name": "stdout",
     "output_type": "stream",
     "text": [
      "Die drei Spalten nach 'Herkunft' sind:\n",
      "- Eine gute Wahl\n",
      "- Ich finde ihn überbewertet\n",
      "- Soll er doch erstmal zeigen, was er kann\n",
      "Index(['Eine gute Wahl', 'Ich finde ihn überbewertet',\n",
      "       'Soll er doch erstmal zeigen, was er kann'],\n",
      "      dtype='object')\n"
     ]
    }
   ],
   "source": [
    "# Die Spaltennamen nach \"Herkunft\" auslesen\n",
    "# Zuerst finden wir den Index der Spalte \"Herkunft\"\n",
    "herkunft_index = df.columns.get_loc(\"Herkunft\")\n",
    "\n",
    "# Dann lesen wir die drei Spaltennamen nach \"Herkunft\" aus\n",
    "spalten_nach_herkunft = df.columns[herkunft_index+1:herkunft_index+4]\n",
    "\n",
    "# Ausgabe der drei Spaltennamen\n",
    "print(\"Die drei Spalten nach 'Herkunft' sind:\")\n",
    "for spalte in spalten_nach_herkunft:\n",
    "    print(f\"- {spalte}\")\n",
    "print(spalten_nach_herkunft)"
   ]
  },
  {
   "cell_type": "code",
   "execution_count": 7,
   "metadata": {},
   "outputs": [
    {
     "ename": "NameError",
     "evalue": "name 'file_path' is not defined",
     "output_type": "error",
     "traceback": [
      "\u001b[31m---------------------------------------------------------------------------\u001b[39m",
      "\u001b[31mNameError\u001b[39m                                 Traceback (most recent call last)",
      "\u001b[36mCell\u001b[39m\u001b[36m \u001b[39m\u001b[32mIn[7]\u001b[39m\u001b[32m, line 28\u001b[39m\n\u001b[32m     26\u001b[39m ergebnis_df = ergebnis_df.rename(columns={\u001b[33m'\u001b[39m\u001b[33mindex\u001b[39m\u001b[33m'\u001b[39m: \u001b[33m'\u001b[39m\u001b[33mBewertung\u001b[39m\u001b[33m'\u001b[39m})\n\u001b[32m     27\u001b[39m \u001b[38;5;28;01mimport\u001b[39;00m\u001b[38;5;250m \u001b[39m\u001b[34;01mos\u001b[39;00m\n\u001b[32m---> \u001b[39m\u001b[32m28\u001b[39m xlsx_pfad = \u001b[43mfile_path\u001b[49m  \u001b[38;5;66;03m# Annahme: file_path enthält den vollständigen Pfad zur xlsx-Datei\u001b[39;00m\n\u001b[32m     29\u001b[39m \u001b[38;5;28;01mif\u001b[39;00m \u001b[33m\"\u001b[39m\u001b[33m./data_in/\u001b[39m\u001b[33m\"\u001b[39m \u001b[38;5;129;01min\u001b[39;00m xlsx_pfad:\n\u001b[32m     30\u001b[39m     xlsx_name = xlsx_pfad.split(\u001b[33m\"\u001b[39m\u001b[33m./data_in/\u001b[39m\u001b[33m\"\u001b[39m)[\u001b[32m1\u001b[39m]\n",
      "\u001b[31mNameError\u001b[39m: name 'file_path' is not defined"
     ]
    }
   ],
   "source": [
    "\n",
    "# Liste der Bewertungs-Spalten\n",
    "bewertungsspalten = [\"Eine gute Wahl\", \"Ich finde ihn überbewertet\", \"Soll er doch erstmal zeigen, was er kann\"]\n",
    "\n",
    "# Anzahl der Nutzer (Zeilen im DataFrame)\n",
    "anzahl_nutzer = len(df)\n",
    "\n",
    "# Prozentuale Verteilung berechnen\n",
    "prozent_nutzer = {}\n",
    "for spalte in bewertungsspalten:\n",
    "    anzahl = df[spalte].sum()\n",
    "    prozent = (anzahl / anzahl_nutzer) * 100\n",
    "    prozent_nutzer[spalte] = prozent\n",
    "\n",
    "# Neue Tabelle erstellen\n",
    "ergebnis_df = pd.DataFrame({\n",
    "    \"Nutzer in %\": [prozent_nutzer[spalte] for spalte in bewertungsspalten]\n",
    "}, index=bewertungsspalten)\n",
    "\n",
    "# Ausgabe\n",
    "from decimal import Decimal, ROUND_HALF_UP\n",
    "def kaufmaennisch_runden(x):\n",
    "    return float(Decimal(x).quantize(Decimal('1.0'), rounding=ROUND_HALF_UP))\n",
    "ergebnis_df[\"Nutzer in %\"] = ergebnis_df[\"Nutzer in %\"].apply(kaufmaennisch_runden)\n",
    "# Index zur Spalte machen\n",
    "ergebnis_df = ergebnis_df.reset_index()\n",
    "ergebnis_df = ergebnis_df.rename(columns={'index': 'Bewertung'})\n",
    "import os\n",
    "xlsx_pfad = file_path  # Annahme: file_path enthält den vollständigen Pfad zur xlsx-Datei\n",
    "if \"./data_in/\" in xlsx_pfad:\n",
    "    xlsx_name = xlsx_pfad.split(\"./data_in/\")[1]\n",
    "    xlsx_url = os.path.splitext(xlsx_name)[0]\n",
    "else:\n",
    "    # Falls der Pfad nicht dem erwarteten Format entspricht\n",
    "    xlsx_url = os.path.splitext(os.path.basename(xlsx_pfad))[0]\n",
    "print(xlsx_url)\n",
    "#ergebnis_df.to_csv(\"ergebnis_nisa.csv\", index=False)\n",
    "#ergebnis_df"
   ]
  },
  {
   "cell_type": "code",
   "execution_count": 19,
   "metadata": {},
   "outputs": [
    {
     "data": {
      "text/plain": [
       "(7050, 9)"
      ]
     },
     "execution_count": 19,
     "metadata": {},
     "output_type": "execute_result"
    }
   ],
   "source": [
    "df.shape"
   ]
  },
  {
   "cell_type": "code",
   "execution_count": 18,
   "metadata": {},
   "outputs": [
    {
     "data": {
      "text/html": [
       "<div>\n",
       "<style scoped>\n",
       "    .dataframe tbody tr th:only-of-type {\n",
       "        vertical-align: middle;\n",
       "    }\n",
       "\n",
       "    .dataframe tbody tr th {\n",
       "        vertical-align: top;\n",
       "    }\n",
       "\n",
       "    .dataframe thead th {\n",
       "        text-align: right;\n",
       "    }\n",
       "</style>\n",
       "<table border=\"1\" class=\"dataframe\">\n",
       "  <thead>\n",
       "    <tr style=\"text-align: right;\">\n",
       "      <th></th>\n",
       "      <th>Bewertung</th>\n",
       "      <th>Nutzer in %</th>\n",
       "    </tr>\n",
       "  </thead>\n",
       "  <tbody>\n",
       "    <tr>\n",
       "      <th>0</th>\n",
       "      <td>Ja, die Ausbreitung muss eingedämmt werden.</td>\n",
       "      <td>90.6</td>\n",
       "    </tr>\n",
       "    <tr>\n",
       "      <th>1</th>\n",
       "      <td>Nein, die Tiere stehen unter einem besonderen ...</td>\n",
       "      <td>8.8</td>\n",
       "    </tr>\n",
       "    <tr>\n",
       "      <th>2</th>\n",
       "      <td>Dazu habe ich keine Meinung.</td>\n",
       "      <td>0.6</td>\n",
       "    </tr>\n",
       "  </tbody>\n",
       "</table>\n",
       "</div>"
      ],
      "text/plain": [
       "                                           Bewertung  Nutzer in %\n",
       "0        Ja, die Ausbreitung muss eingedämmt werden.         90.6\n",
       "1  Nein, die Tiere stehen unter einem besonderen ...          8.8\n",
       "2                       Dazu habe ich keine Meinung.          0.6"
      ]
     },
     "execution_count": 18,
     "metadata": {},
     "output_type": "execute_result"
    }
   ],
   "source": [
    "ergebnis_df"
   ]
  },
  {
   "cell_type": "code",
   "execution_count": null,
   "metadata": {},
   "outputs": [],
   "source": []
  },
  {
   "cell_type": "code",
   "execution_count": null,
   "metadata": {},
   "outputs": [],
   "source": []
  },
  {
   "cell_type": "code",
   "execution_count": null,
   "metadata": {},
   "outputs": [],
   "source": []
  },
  {
   "cell_type": "code",
   "execution_count": null,
   "metadata": {},
   "outputs": [],
   "source": []
  },
  {
   "cell_type": "code",
   "execution_count": null,
   "metadata": {},
   "outputs": [],
   "source": []
  },
  {
   "cell_type": "code",
   "execution_count": null,
   "metadata": {},
   "outputs": [],
   "source": []
  },
  {
   "cell_type": "code",
   "execution_count": null,
   "metadata": {},
   "outputs": [],
   "source": []
  },
  {
   "cell_type": "code",
   "execution_count": null,
   "metadata": {},
   "outputs": [],
   "source": []
  },
  {
   "cell_type": "code",
   "execution_count": null,
   "metadata": {},
   "outputs": [
    {
     "name": "stdout",
     "output_type": "stream",
     "text": [
      "Status Code: 200\n",
      "Antwort: {\"publicId\":\"Le1Gw\",\"language\":\"de-DE\",\"theme\":\"haz\",\"id\":\"Le1Gw\",\"type\":\"column-chart\",\"title\":\"Wir haben gefragt: \\nWelche Note geben Sie der rot-grünen Landesregierung?\",\"lastEditStep\":5,\"publishedAt\":\"2025-04-29T13:25:05.000Z\",\"publicUrl\":\"https://datawrapper.dwcdn.net/Le1Gw/2/\",\"publicVersion\":2,\"deleted\":false,\"forkable\":false,\"isFork\":false,\"metadata\":{\"data\":{\"changes\":[],\"transpose\":false,\"vertical-header\":true,\"horizontal-header\":true,\"column-format\":{\"Meta\":{\"number-append\":\" billion\"},\"Apple\":{\"number-append\":\" billion\"},\"Amazon\":{\"number-append\":\" billion\"},\"Alphabet\":{\"number-append\":\" billion\"},\"Microsoft\":{\"number-append\":\" billion\"}},\"upload-method\":\"copy\"},\"describe\":{\"source-name\":\"eigene Umfrage\",\"source-url\":\"\",\"intro\":\"Insgesamt haben 1002 Menschen an der Umfrage teilgenommen.\",\"byline\":\"Knoop/RND\",\"aria-description\":\"\",\"number-format\":\"-\",\"number-divisor\":0,\"number-append\":\"\",\"number-prepend\":\"\"},\"visualize\":{\"dark-mode-invert\":false,\"highlighted-series\":[],\"highlighted-values\":[],\"sharing\":{\"enabled\":false,\"url\":\"https://www.datawrapper.de/_/Le1Gw\",\"auto\":false},\"sort\":{\"by\":\"end\",\"enabled\":false,\"reverse\":false},\"lines\":{},\"panels\":{},\"x-grid\":\"off\",\"y-grid\":\"on\",\"compare\":{\"enabled\":false,\"differenceLabel\":true},\"scale-y\":\"linear\",\"sort-by\":\"first\",\"category\":\"direct\",\"overlays\":[],\"color-key\":true,\"base-color\":0,\"grid-lines\":\"show\",\"gridLayout\":\"fixedCount\",\"highlights\":[],\"bar-padding\":60,\"label-space\":30,\"sort-values\":false,\"valueLabels\":{\"show\":\"always\",\"enabled\":true,\"placement\":\"inside\",\"preventOverlap\":true},\"yAxisLabels\":{\"enabled\":true,\"alignment\":\"left\",\"placement\":\"outside\"},\"custom-range\":[\"\",\"\"],\"custom-ticks\":\"\",\"disable-tabs\":true,\"grid-lines-x\":{\"type\":\"ticks\",\"enabled\":false},\"label-colors\":false,\"label-margin\":0,\"totalsLabels\":false,\"interpolation\":\"linear\",\"negativeColor\":{\"value\":\"#E31A1C\",\"enabled\":false},\"reverse-order\":false,\"rotate-labels\":\"auto\",\"show-tooltips\":true,\"x-grid-format\":\"YYYY [Q]Q\",\"x-grid-labels\":\"on\",\"y-grid-format\":\"0.0%\",\"y-grid-labels\":\"inside\",\"absolute-scale\":false,\"categoryLabels\":{\"enabled\":true,\"position\":\"direct\"},\"chart-type-set\":true,\"color-category\":{\"map\":{},\"palette\":[],\"categoryOrder\":[],\"categoryLabels\":{},\"excludeFromKey\":[]},\"custom-range-x\":[\"\",\"\"],\"custom-range-y\":[\"\",\"\"],\"custom-ticks-x\":\"\",\"custom-ticks-y\":\"\",\"plotHeightMode\":\"fixed\",\"series-padding\":60,\"show-color-key\":false,\"xGridAlignment\":\"baseline\",\"color-by-column\":false,\"connector-lines\":true,\"gridColumnCount\":5,\"plotHeightFixed\":300,\"plotHeightRatio\":0.5,\"colorPanelTitles\":false,\"panelSortIndexes\":{},\"text-annotations\":[],\"y-grid-subdivide\":true,\"custom-area-fills\":[],\"gridRowHeightMode\":\"fixed\",\"range-annotations\":[],\"gridColumnMinWidth\":200,\"gridRowHeightFixed\":200,\"gridRowHeightRatio\":1,\"independentYScales\":false,\"stack-color-legend\":false,\"value-label-colors\":true,\"y-grid-label-align\":\"left\",\"reverse-color-legend\":false,\"syncMultipleTooltips\":true,\"xGridLabelAllColumns\":false,\"yGridLabelAllColumns\":false,\"gridColumnCountMobile\":2,\"independentYScalesRounded\":true},\"axes\":{\"column\":\"Apple\"},\"publish\":{\"embed-width\":600,\"embed-height\":475,\"blocks\":{\"logo\":{\"id\":\"rnd\",\"enabled\":false},\"embed\":false,\"download-pdf\":false,\"download-svg\":false,\"get-the-data\":false,\"download-image\":false},\"export-pdf\":{},\"embed-codes\":{\"embed-method-iframe\":\"<iframe title=\\\"Wir haben gefragt: \\nWelche Note geben Sie der rot-grünen Landesregierung?\\\" aria-label=\\\"Säulen\\\" id=\\\"datawrapper-chart-Le1Gw\\\" src=\\\"https://datawrapper.dwcdn.net/Le1Gw/2/\\\" scrolling=\\\"no\\\" frameborder=\\\"0\\\" style=\\\"border: none;\\\" width=\\\"600\\\" height=\\\"475\\\" data-external=\\\"1\\\"></iframe>\",\"embed-method-responsive\":\"<iframe title=\\\"Wir haben gefragt: \\nWelche Note geben Sie der rot-grünen Landesregierung?\\\" aria-label=\\\"Säulen\\\" id=\\\"datawrapper-chart-Le1Gw\\\" src=\\\"https://datawrapper.dwcdn.net/Le1Gw/2/\\\" scrolling=\\\"no\\\" frameborder=\\\"0\\\" style=\\\"width: 0; min-width: 100% !important; border: none;\\\" height=\\\"475\\\" data-external=\\\"1\\\"></iframe><script type=\\\"text/javascript\\\">!function(){\\\"use strict\\\";window.addEventListener(\\\"message\\\",(function(a){if(void 0!==a.data[\\\"datawrapper-height\\\"]){var e=document.querySelectorAll(\\\"iframe\\\");for(var t in a.data[\\\"datawrapper-height\\\"])for(var r,i=0;r=e[i];i++)if(r.contentWindow===a.source){var d=a.data[\\\"datawrapper-height\\\"][t]+\\\"px\\\";r.style.height=d}}}))}();\\n</script>\",\"embed-method-web-component\":\"<div style=\\\"min-height:475px\\\" id=\\\"datawrapper-vis-Le1Gw\\\"><script type=\\\"text/javascript\\\" defer src=\\\"https://datawrapper.dwcdn.net/Le1Gw/embed.js\\\" charset=\\\"utf-8\\\" data-target=\\\"#datawrapper-vis-Le1Gw\\\"></script><noscript><img src=\\\"https://datawrapper.dwcdn.net/Le1Gw/full.png\\\" alt=\\\"\\\" /></noscript></div>\"},\"autoDarkMode\":false,\"chart-height\":323},\"annotate\":{\"notes\":\"Summe kann aufgrund von Rundungen von 100% abweichen.\"},\"custom\":{\"tags\":\"\",\"embed\":\"\",\"patch\":false,\"regional\":false,\"evergreen\":false,\"kommentar\":\"\"}},\"externalData\":null,\"utf8\":false,\"createdAt\":\"2025-04-29T10:01:43.000Z\",\"lastModifiedAt\":\"2025-04-29T15:31:27.000Z\",\"forkedFrom\":null,\"organizationId\":\"NcuSh8hB\",\"authorId\":839871,\"folderId\":315403,\"deletedAt\":null,\"url\":\"/v3/charts/Le1Gw\"}\n",
      "Status Code: 204\n",
      "Antwort: \n",
      "PNG erfolgreich gespeichert.\n"
     ]
    },
    {
     "ename": "",
     "evalue": "",
     "output_type": "error",
     "traceback": [
      "\u001b[1;31mThe Kernel crashed while executing code in the current cell or a previous cell. \n",
      "\u001b[1;31mPlease review the code in the cell(s) to identify a possible cause of the failure. \n",
      "\u001b[1;31mClick <a href='https://aka.ms/vscodeJupyterKernelCrash'>here</a> for more info. \n",
      "\u001b[1;31mView Jupyter <a href='command:jupyter.viewOutput'>log</a> for further details."
     ]
    }
   ],
   "source": [
    "import requests\n",
    "\n",
    "# Anzahl der Zeilen im Ergebnis-DataFrame\n",
    "anzahl_zeilen_ergebnis_df = len(df)\n",
    "\n",
    "\n",
    "\n",
    "\n",
    "# Neuer Intro-Text\n",
    "intro_text = f\"Insgesamt haben {anzahl_zeilen_ergebnis_df} Menschen an der Umfrage teilgenommen.\"\n",
    "\n",
    "# API-Key und Chart-ID\n",
    "api_key = \"z7FSi7hXXjc8fZa4L3bKNJJFBZwg1AwIGDYcc7wKueGfVr1p9mjVaG1X1NKPGlPd\"\n",
    "chart_id = \"Le1Gw\"\n",
    "\n",
    "# API-Endpunkt\n",
    "url = f\"https://api.datawrapper.de/v3/charts/{chart_id}\"\n",
    "\n",
    "# Header und Body\n",
    "headers = {\n",
    "    \"Authorization\": f\"Bearer {api_key}\",\n",
    "    \"Content-Type\": \"application/json\"\n",
    "}\n",
    "body = {\n",
    "    \"metadata\": {\n",
    "        \"describe\": {\n",
    "            \"intro\": intro_text\n",
    "        }\n",
    "    }\n",
    "}\n",
    "\n",
    "# PATCH-Request senden\n",
    "response = requests.patch(url, headers=headers, json=body)\n",
    "print(\"Status Code:\", response.status_code)\n",
    "print(\"Antwort:\", response.text)\n",
    "\n",
    "# Datensatz austauschen\n",
    "# DataFrame als CSV-String (ohne Index)\n",
    "csv_data = ergebnis_df.to_csv(index=False)\n",
    "# API-Endpunkt für das Aktualisieren der Daten\n",
    "url = f\"https://api.datawrapper.de/v3/charts/{chart_id}/data\"\n",
    "# Header mit Authentifizierung\n",
    "headers = {\n",
    "    \"Authorization\": f\"Bearer {api_key}\",\n",
    "    \"Content-Type\": \"text/csv\"\n",
    "}\n",
    "\n",
    "# Daten an Datawrapper senden\n",
    "response = requests.put(url, headers=headers, data=csv_data)\n",
    "print(\"Status Code:\", response.status_code)\n",
    "print(\"Antwort:\", response.text)\n",
    "\n",
    "\n",
    "\n",
    "\n",
    "# Export-URL mit gewünschter Größe\n",
    "export_url = f\"https://api.datawrapper.de/v3/charts/{chart_id}/export/png?width=600&height=338&scale=4\"\n",
    "\n",
    "\n",
    "# Header mit Authentifizierung\n",
    "headers = {\n",
    "    \"Authorization\": f\"Bearer {api_key}\"\n",
    "}\n",
    "\n",
    "# PNG abrufen\n",
    "response = requests.get(export_url, headers=headers)\n",
    "\n",
    "# Bild speichern, falls erfolgreich# Bild speichern, falls erfolgreich\n",
    "if response.status_code == 200:\n",
    "    with open(\"20250429_Niedersachsen.png\", \"wb\") as f:\n",
    "        f.write(response.content)\n",
    "    print(\"PNG erfolgreich gespeichert.\")\n",
    "else:\n",
    "    print(\"Fehler beim Export:\", response.status_code, response.text)"
   ]
  },
  {
   "cell_type": "markdown",
   "metadata": {},
   "source": [
    "# Brandenburg"
   ]
  },
  {
   "cell_type": "code",
   "execution_count": 7,
   "metadata": {},
   "outputs": [
    {
     "name": "stderr",
     "output_type": "stream",
     "text": [
      "C:\\Users\\chris\\AppData\\Local\\Temp\\ipykernel_2408\\888548675.py:18: FutureWarning: Downcasting behavior in `replace` is deprecated and will be removed in a future version. To retain the old behavior, explicitly call `result.infer_objects(copy=False)`. To opt-in to the future behavior, set `pd.set_option('future.no_silent_downcasting', True)`\n",
      "  dfbb = dfbb.replace('✓', 1)\n"
     ]
    },
    {
     "data": {
      "text/html": [
       "<div>\n",
       "<style scoped>\n",
       "    .dataframe tbody tr th:only-of-type {\n",
       "        vertical-align: middle;\n",
       "    }\n",
       "\n",
       "    .dataframe tbody tr th {\n",
       "        vertical-align: top;\n",
       "    }\n",
       "\n",
       "    .dataframe thead th {\n",
       "        text-align: right;\n",
       "    }\n",
       "</style>\n",
       "<table border=\"1\" class=\"dataframe\">\n",
       "  <thead>\n",
       "    <tr style=\"text-align: right;\">\n",
       "      <th></th>\n",
       "      <th>Bewertung</th>\n",
       "      <th>Nutzer in %</th>\n",
       "    </tr>\n",
       "  </thead>\n",
       "  <tbody>\n",
       "    <tr>\n",
       "      <th>0</th>\n",
       "      <td>Ja, das ist sinnvoll</td>\n",
       "      <td>2.1</td>\n",
       "    </tr>\n",
       "    <tr>\n",
       "      <th>1</th>\n",
       "      <td>Nein, das ist unnötig</td>\n",
       "      <td>97.5</td>\n",
       "    </tr>\n",
       "    <tr>\n",
       "      <th>2</th>\n",
       "      <td>Mir egal</td>\n",
       "      <td>0.4</td>\n",
       "    </tr>\n",
       "  </tbody>\n",
       "</table>\n",
       "</div>"
      ],
      "text/plain": [
       "               Bewertung  Nutzer in %\n",
       "0   Ja, das ist sinnvoll          2.1\n",
       "1  Nein, das ist unnötig         97.5\n",
       "2               Mir egal          0.4"
      ]
     },
     "execution_count": 7,
     "metadata": {},
     "output_type": "execute_result"
    }
   ],
   "source": [
    "dfbb = pd.read_excel(\"./bb.xlsx\")\n",
    "üs= \"Sollen Autos ab einem Alter von zehn Jahren jährlich zum TÜV?\"\n",
    "# Neue Spaltennamen generieren\n",
    "new_columns = []\n",
    "for i, col in enumerate(dfbb.columns):\n",
    "    if i <= 5:\n",
    "        new_columns.append(dfbb.iloc[0, i])\n",
    "    else:\n",
    "        new_columns.append(dfbb.iloc[2, i])\n",
    "\n",
    "# Spaltennamen setzen\n",
    "dfbb.columns = new_columns\n",
    "\n",
    "# Die Hilfszeilen entfernen (Zeile 0, 1 und 2)\n",
    "dfbb = dfbb.iloc[3:].reset_index(drop=True)\n",
    "\n",
    "# Ersetze den Haken durch 1\n",
    "dfbb = dfbb.replace('✓', 1)\n",
    "\n",
    "# Ersetze alle NaN-Werte durch 0\n",
    "dfbb = dfbb.fillna(0)\n",
    "\n",
    "# bewertungsspalten\n",
    "bew_spalten = ['Ja, das ist sinnvoll',\n",
    "       'Nein, das ist unnötig',\n",
    "       'Mir egal']\n",
    "\n",
    "# Anzahl der Nutzer (Zeilen im DataFrame)\n",
    "anzahl_nutzer = len(dfbb)\n",
    "\n",
    "# Prozentuale Verteilung b  erechnen\n",
    "prozent_nutzer = {}\n",
    "for spalte in bew_spalten:\n",
    "    anzahl = dfbb[spalte].sum()\n",
    "    prozent = (anzahl / anzahl_nutzer) * 100\n",
    "    prozent_nutzer[spalte] = prozent\n",
    "\n",
    "# Neue Tabelle erstellen\n",
    "ergebnis_df = pd.DataFrame({\n",
    "    \"Nutzer in %\": [prozent_nutzer[spalte] for spalte in bew_spalten]\n",
    "}, index=bew_spalten)\n",
    "\n",
    "# Ausgabe\n",
    "from decimal import Decimal, ROUND_HALF_UP\n",
    "def kaufmaennisch_runden(x):\n",
    "    return float(Decimal(x).quantize(Decimal('1.0'), rounding=ROUND_HALF_UP))\n",
    "ergebnis_df[\"Nutzer in %\"] = ergebnis_df[\"Nutzer in %\"].apply(kaufmaennisch_runden)\n",
    "# Index zur Spalte machen\n",
    "ergebnis_df = ergebnis_df.reset_index()\n",
    "ergebnis_df = ergebnis_df.rename(columns={'index': 'Bewertung'})\n",
    "ergebnis_df.to_csv(\"ergebnis_bb.csv\", index=False)\n",
    "ergebnis_df"
   ]
  },
  {
   "cell_type": "code",
   "execution_count": null,
   "metadata": {},
   "outputs": [],
   "source": [
    "\n",
    "import requests\n",
    "\n",
    "# Anzahl der Zeilen im Ergebnis-DataFrame\n",
    "anzahl_zeilen_ergebnis_df = len(dfbb)\n",
    "\n",
    "# Neuer Intro-Text\n",
    "intro_text = f\"Insgesamt haben {anzahl_zeilen_ergebnis_df} Menschen an der Umfrage teilgenommen.\"\n",
    "\n",
    "# API-Key und Chart-ID\n",
    "api_key = \"z7FSi7hXXjc8fZa4L3bKNJJFBZwg1AwIGDYcc7wKueGfVr1p9mjVaG1X1NKPGlPd\"\n",
    "chart_id = \"Fod7L\"\n",
    "\n",
    "# API-Endpunkt\n",
    "url = f\"https://api.datawrapper.de/v3/charts/{chart_id}\"\n",
    "\n",
    "# Header und Body\n",
    "headers = {\n",
    "    \"Authorization\": f\"Bearer {api_key}\",\n",
    "    \"Content-Type\": \"application/json\"\n",
    "}\n",
    "body = {\n",
    "    \"metadata\": {\n",
    "        \"describe\": {\n",
    "            \"intro\": intro_text\n",
    "        }\n",
    "    }\n",
    "}\n",
    "\n",
    "# PATCH-Request senden\n",
    "response = requests.patch(url, headers=headers, json=body)\n",
    "print(\"Status Code:\", response.status_code)\n",
    "print(\"Antwort:\", response.text)\n",
    "\n",
    "# Datensatz austauschen\n",
    "# DataFrame als CSV-String (ohne Index)\n",
    "csv_data = ergebnis_df.to_csv(index=False)\n",
    "# API-Endpunkt für das Aktualisieren der Daten\n",
    "url = f\"https://api.datawrapper.de/v3/charts/{chart_id}/data\"\n",
    "# Header mit Authentifizierung\n",
    "headers = {\n",
    "    \"Authorization\": f\"Bearer {api_key}\",\n",
    "    \"Content-Type\": \"text/csv\"\n",
    "}\n",
    "\n",
    "# Daten an Datawrapper senden\n",
    "response = requests.put(url, headers=headers, data=csv_data)\n",
    "print(\"Status Code:\", response.status_code)\n",
    "print(\"Antwort:\", response.text)\n",
    "\n",
    "# Export-URL mit gewünschter Größe\n",
    "export_url = f\"https://api.datawrapper.de/v3/charts/{chart_id}/export/png?width=600&height=338&scale=4\"\n",
    "\n",
    "\n",
    "# Header mit Authentifizierung\n",
    "headers = {\n",
    "    \"Authorization\": f\"Bearer {api_key}\"\n",
    "}\n",
    "\n",
    "# PNG abrufen\n",
    "response = requests.get(export_url, headers=headers)\n",
    "\n",
    "# Bild speichern, falls erfolgreich# Bild speichern, falls erfolgreich\n",
    "if response.status_code == 200:\n",
    "    with open(\"20250429_Brandenburg.png\", \"wb\") as f:\n",
    "        f.write(response.content)\n",
    "    print(\"PNG erfolgreich gespeichert.\")\n",
    "else:\n",
    "    print(\"Fehler beim Export:\", response.status_code, response.text)"
   ]
  },
  {
   "cell_type": "markdown",
   "metadata": {},
   "source": [
    "# MV"
   ]
  },
  {
   "cell_type": "code",
   "execution_count": 29,
   "metadata": {},
   "outputs": [
    {
     "name": "stderr",
     "output_type": "stream",
     "text": [
      "C:\\Users\\chris\\AppData\\Local\\Temp\\ipykernel_24708\\1344091551.py:17: FutureWarning:\n",
      "\n",
      "Downcasting behavior in `replace` is deprecated and will be removed in a future version. To retain the old behavior, explicitly call `result.infer_objects(copy=False)`. To opt-in to the future behavior, set `pd.set_option('future.no_silent_downcasting', True)`\n",
      "\n"
     ]
    },
    {
     "data": {
      "text/html": [
       "<div>\n",
       "<style scoped>\n",
       "    .dataframe tbody tr th:only-of-type {\n",
       "        vertical-align: middle;\n",
       "    }\n",
       "\n",
       "    .dataframe tbody tr th {\n",
       "        vertical-align: top;\n",
       "    }\n",
       "\n",
       "    .dataframe thead th {\n",
       "        text-align: right;\n",
       "    }\n",
       "</style>\n",
       "<table border=\"1\" class=\"dataframe\">\n",
       "  <thead>\n",
       "    <tr style=\"text-align: right;\">\n",
       "      <th></th>\n",
       "      <th>Bewertung</th>\n",
       "      <th>Nutzer in %</th>\n",
       "    </tr>\n",
       "  </thead>\n",
       "  <tbody>\n",
       "    <tr>\n",
       "      <th>0</th>\n",
       "      <td>Ja.</td>\n",
       "      <td>42.8</td>\n",
       "    </tr>\n",
       "    <tr>\n",
       "      <th>1</th>\n",
       "      <td>Nein.</td>\n",
       "      <td>56.2</td>\n",
       "    </tr>\n",
       "    <tr>\n",
       "      <th>2</th>\n",
       "      <td>Ich weiß nicht.</td>\n",
       "      <td>1.1</td>\n",
       "    </tr>\n",
       "  </tbody>\n",
       "</table>\n",
       "</div>"
      ],
      "text/plain": [
       "         Bewertung  Nutzer in %\n",
       "0              Ja.         42.8\n",
       "1            Nein.         56.2\n",
       "2  Ich weiß nicht.          1.1"
      ]
     },
     "execution_count": 29,
     "metadata": {},
     "output_type": "execute_result"
    }
   ],
   "source": [
    "dfmv = pd.read_excel(\"./mv.xlsx\")\n",
    "# Neue Spaltennamen generieren\n",
    "new_columns = []\n",
    "for i, col in enumerate(dfmv.columns):\n",
    "    if i <= 5:\n",
    "        new_columns.append(dfmv.iloc[0, i])\n",
    "    else:\n",
    "        new_columns.append(dfmv.iloc[2, i])\n",
    "\n",
    "# Spaltennamen setzen\n",
    "dfmv.columns = new_columns\n",
    "\n",
    "# Die Hilfszeilen entfernen (Zeile 0, 1 und 2)\n",
    "dfmv = dfmv.iloc[3:].reset_index(drop=True)\n",
    "\n",
    "# Ersetze den Haken durch 1\n",
    "dfmv = dfmv.replace('✓', 1)\n",
    "\n",
    "# Ersetze alle NaN-Werte durch 0\n",
    "dfmv = dfmv.fillna(0)   \n",
    "\n",
    "# bewertungsspalten\n",
    "bew_spalten = ['Ja.', \"Nein.\", \"Ich weiß nicht.\"]\n",
    "\n",
    "# Anzahl der Nutzer (Zeilen im DataFrame)\n",
    "anzahl_nutzer = len(dfmv)\n",
    "\n",
    "# Prozentuale Verteilung berechnen\n",
    "prozent_nutzer = {}\n",
    "for spalte in bew_spalten:\n",
    "    anzahl = dfmv[spalte].sum()\n",
    "    prozent = (anzahl / anzahl_nutzer) * 100\n",
    "    prozent_nutzer[spalte] = prozent\n",
    "\n",
    "# Neue Tabelle erstellen\n",
    "ergebnis_df = pd.DataFrame({\n",
    "    \"Nutzer in %\": [prozent_nutzer[spalte] for spalte in bew_spalten]\n",
    "}, index=bew_spalten)\n",
    "\n",
    "# Ausgabe\n",
    "from decimal import Decimal, ROUND_HALF_UP\n",
    "def kaufmaennisch_runden(x):    \n",
    "    return float(Decimal(x).quantize(Decimal('1.0'), rounding=ROUND_HALF_UP))\n",
    "ergebnis_df[\"Nutzer in %\"] = ergebnis_df[\"Nutzer in %\"].apply(kaufmaennisch_runden)\n",
    "# Index zur Spalte machen\n",
    "ergebnis_df = ergebnis_df.reset_index()\n",
    "ergebnis_df = ergebnis_df.rename(columns={'index': 'Bewertung'})    \n",
    "ergebnis_df.to_csv(\"ergebnis_mv.csv\", index=False)\n",
    "ergebnis_df"
   ]
  },
  {
   "cell_type": "code",
   "execution_count": null,
   "metadata": {},
   "outputs": [],
   "source": [
    "\n",
    "# Anzahl der Zeilen im Ergebnis-DataFrame\n",
    "anzahl_zeilen_ergebnis_df = len(dfmv)\n",
    "\n",
    "# Neuer Intro-Text\n",
    "intro_text = f\"Insgesamt haben {anzahl_zeilen_ergebnis_df} Menschen an der Umfrage teilgenommen.\"\n",
    "\n",
    "# API-Key und Chart-ID\n",
    "api_key = \"z7FSi7hXXjc8fZa4L3bKNJJFBZwg1AwIGDYcc7wKueGfVr1p9mjVaG1X1NKPGlPd\"\n",
    "chart_id = \"IBzb8\"\n",
    "\n",
    "# API-Endpunkt\n",
    "url = f\"https://api.datawrapper.de/v3/charts/{chart_id}\"\n",
    "\n",
    "# Header und Body\n",
    "headers = {\n",
    "    \"Authorization\": f\"Bearer {api_key}\",\n",
    "    \"Content-Type\": \"application/json\"\n",
    "}\n",
    "body = {\n",
    "    \"metadata\": {\n",
    "        \"describe\": {\n",
    "            \"intro\": intro_text\n",
    "        }\n",
    "    }\n",
    "}\n",
    "\n",
    "# PATCH-Request senden\n",
    "response = requests.patch(url, headers=headers, json=body)\n",
    "print(\"Status Code:\", response.status_code)\n",
    "print(\"Antwort:\", response.text)\n",
    "\n",
    "# Datensatz austauschen\n",
    "# DataFrame als CSV-String (ohne Index)\n",
    "csv_data = ergebnis_df.to_csv(index=False)\n",
    "# API-Endpunkt für das Aktualisieren der Daten\n",
    "url = f\"https://api.datawrapper.de/v3/charts/{chart_id}/data\"\n",
    "# Header mit Authentifizierung\n",
    "headers = {\n",
    "    \"Authorization\": f\"Bearer {api_key}\",\n",
    "    \"Content-Type\": \"text/csv\"\n",
    "}\n",
    "\n",
    "# Daten an Datawrapper senden\n",
    "response = requests.put(url, headers=headers, data=csv_data)\n",
    "print(\"Status Code:\", response.status_code)\n",
    "print(\"Antwort:\", response.text)\n",
    "\n",
    "# Export-URL mit gewünschter Größe\n",
    "export_url = f\"https://api.datawrapper.de/v3/charts/{chart_id}/export/png?width=600&height=338&scale=4\"\n",
    "\n",
    "\n",
    "# Header mit Authentifizierung\n",
    "headers = {\n",
    "    \"Authorization\": f\"Bearer {api_key}\"\n",
    "}\n",
    "\n",
    "# PNG abrufen\n",
    "response = requests.get(export_url, headers=headers)\n",
    "\n",
    "# Bild speichern, falls erfolgreich# Bild speichern, falls erfolgreich\n",
    "if response.status_code == 200:\n",
    "    with open(\"20250429_Mecklenburg-Vorpommern.png\", \"wb\") as f:\n",
    "        f.write(response.content)\n",
    "    print(\"PNG erfolgreich gespeichert.\")\n",
    "else:\n",
    "    print(\"Fehler beim Export:\", response.status_code, response.text)\n"
   ]
  },
  {
   "cell_type": "markdown",
   "metadata": {},
   "source": [
    "# Sachsen"
   ]
  },
  {
   "cell_type": "code",
   "execution_count": 8,
   "metadata": {},
   "outputs": [
    {
     "name": "stderr",
     "output_type": "stream",
     "text": [
      "C:\\Users\\chris\\AppData\\Local\\Temp\\ipykernel_2408\\1603673822.py:18: FutureWarning: Downcasting behavior in `replace` is deprecated and will be removed in a future version. To retain the old behavior, explicitly call `result.infer_objects(copy=False)`. To opt-in to the future behavior, set `pd.set_option('future.no_silent_downcasting', True)`\n",
      "  dfmv = dfmv.replace('✓', 1)\n"
     ]
    },
    {
     "data": {
      "text/html": [
       "<div>\n",
       "<style scoped>\n",
       "    .dataframe tbody tr th:only-of-type {\n",
       "        vertical-align: middle;\n",
       "    }\n",
       "\n",
       "    .dataframe tbody tr th {\n",
       "        vertical-align: top;\n",
       "    }\n",
       "\n",
       "    .dataframe thead th {\n",
       "        text-align: right;\n",
       "    }\n",
       "</style>\n",
       "<table border=\"1\" class=\"dataframe\">\n",
       "  <thead>\n",
       "    <tr style=\"text-align: right;\">\n",
       "      <th></th>\n",
       "      <th>Bewertung</th>\n",
       "      <th>Nutzer in %</th>\n",
       "    </tr>\n",
       "  </thead>\n",
       "  <tbody>\n",
       "    <tr>\n",
       "      <th>0</th>\n",
       "      <td>Ja, ich bin vorbereitet.</td>\n",
       "      <td>33.1</td>\n",
       "    </tr>\n",
       "    <tr>\n",
       "      <th>1</th>\n",
       "      <td>Nein, ich habe kaum Vorräte.</td>\n",
       "      <td>45.3</td>\n",
       "    </tr>\n",
       "    <tr>\n",
       "      <th>2</th>\n",
       "      <td>Kann ich nicht einschätzen.</td>\n",
       "      <td>21.6</td>\n",
       "    </tr>\n",
       "  </tbody>\n",
       "</table>\n",
       "</div>"
      ],
      "text/plain": [
       "                      Bewertung  Nutzer in %\n",
       "0      Ja, ich bin vorbereitet.         33.1\n",
       "1  Nein, ich habe kaum Vorräte.         45.3\n",
       "2   Kann ich nicht einschätzen.         21.6"
      ]
     },
     "execution_count": 8,
     "metadata": {},
     "output_type": "execute_result"
    }
   ],
   "source": [
    "dfmv = pd.read_excel(\"./sn.xlsx\")\n",
    "üs=\"Würden Sie sich bei einem Blackout für mindestens zehn Tage mit Vorräten versorgen können?\"\n",
    "# Neue Spaltennamen generieren\n",
    "new_columns = []\n",
    "for i, col in enumerate(dfmv.columns):\n",
    "    if i <= 5:\n",
    "        new_columns.append(dfmv.iloc[0, i])\n",
    "    else:\n",
    "        new_columns.append(dfmv.iloc[2, i])\n",
    "\n",
    "# Spaltennamen setzen\n",
    "dfmv.columns = new_columns\n",
    "\n",
    "# Die Hilfszeilen entfernen (Zeile 0, 1 und 2)\n",
    "dfmv = dfmv.iloc[3:].reset_index(drop=True)\n",
    "\n",
    "# Ersetze den Haken durch 1\n",
    "dfmv = dfmv.replace('✓', 1)\n",
    "\n",
    "# Ersetze alle NaN-Werte durch 0\n",
    "dfmv = dfmv.fillna(0)   \n",
    "\n",
    "# bewertungsspalten\n",
    "bew_spalten = ['Ja, ich bin vorbereitet.', \"Nein, ich habe kaum Vorräte.\", \"Kann ich nicht einschätzen.\"]\n",
    "\n",
    "# Anzahl der Nutzer (Zeilen im DataFrame)\n",
    "anzahl_nutzer = len(dfmv)\n",
    "\n",
    "# Prozentuale Verteilung berechnen\n",
    "prozent_nutzer = {}\n",
    "for spalte in bew_spalten:\n",
    "    anzahl = dfmv[spalte].sum()\n",
    "    prozent = (anzahl / anzahl_nutzer) * 100\n",
    "    prozent_nutzer[spalte] = prozent\n",
    "\n",
    "# Neue Tabelle erstellen\n",
    "ergebnis_df = pd.DataFrame({\n",
    "    \"Nutzer in %\": [prozent_nutzer[spalte] for spalte in bew_spalten]\n",
    "}, index=bew_spalten)\n",
    "\n",
    "# Ausgabe\n",
    "from decimal import Decimal, ROUND_HALF_UP\n",
    "def kaufmaennisch_runden(x):    \n",
    "    return float(Decimal(x).quantize(Decimal('1.0'), rounding=ROUND_HALF_UP))\n",
    "ergebnis_df[\"Nutzer in %\"] = ergebnis_df[\"Nutzer in %\"].apply(kaufmaennisch_runden)\n",
    "# Index zur Spalte machen\n",
    "ergebnis_df = ergebnis_df.reset_index()\n",
    "ergebnis_df = ergebnis_df.rename(columns={'index': 'Bewertung'})    \n",
    "ergebnis_df.to_clipboard(index=False)\n",
    "ergebnis_df.to_csv(\"ergebnis_sn.csv\", index=False)\n",
    "ergebnis_df\n"
   ]
  },
  {
   "cell_type": "code",
   "execution_count": null,
   "metadata": {},
   "outputs": [],
   "source": [
    "\n",
    "\n",
    "# Anzahl der Zeilen im Ergebnis-DataFrame\n",
    "anzahl_zeilen_ergebnis_df = len(dfmv)\n",
    "\n",
    "# Neuer Intro-Text\n",
    "intro_text = f\"Insgesamt haben {anzahl_zeilen_ergebnis_df} Menschen an der Umfrage teilgenommen.\"\n",
    "\n",
    "# API-Key und Chart-ID\n",
    "api_key = \"z7FSi7hXXjc8fZa4L3bKNJJFBZwg1AwIGDYcc7wKueGfVr1p9mjVaG1X1NKPGlPd\"\n",
    "chart_id = \"aUNdP\"\n",
    "\n",
    "# API-Endpunkt\n",
    "url = f\"https://api.datawrapper.de/v3/charts/{chart_id}\"\n",
    "\n",
    "# Header und Body\n",
    "headers = {\n",
    "    \"Authorization\": f\"Bearer {api_key}\",\n",
    "    \"Content-Type\": \"application/json\"\n",
    "}\n",
    "body = {\n",
    "    \"metadata\": {\n",
    "        \"describe\": {\n",
    "            \"intro\": intro_text\n",
    "        }\n",
    "    }\n",
    "}\n",
    "\n",
    "# PATCH-Request senden\n",
    "response = requests.patch(url, headers=headers, json=body)\n",
    "print(\"Status Code:\", response.status_code)\n",
    "print(\"Antwort:\", response.text)\n",
    "\n",
    "# Datensatz austauschen\n",
    "# DataFrame als CSV-String (ohne Index)\n",
    "csv_data = ergebnis_df.to_csv(index=False)\n",
    "# API-Endpunkt für das Aktualisieren der Daten\n",
    "url = f\"https://api.datawrapper.de/v3/charts/{chart_id}/data\"\n",
    "# Header mit Authentifizierung\n",
    "headers = {\n",
    "    \"Authorization\": f\"Bearer {api_key}\",\n",
    "    \"Content-Type\": \"text/csv\"\n",
    "}\n",
    "\n",
    "# Daten an Datawrapper senden\n",
    "response = requests.put(url, headers=headers, data=csv_data)\n",
    "print(\"Status Code:\", response.status_code)\n",
    "print(\"Antwort:\", response.text)\n",
    "\n",
    "# Export-URL mit gewünschter Größe\n",
    "export_url = f\"https://api.datawrapper.de/v3/charts/{chart_id}/export/png?width=600&height=338&scale=4\"\n",
    "\n",
    "\n",
    "# Header mit Authentifizierung\n",
    "headers = {\n",
    "    \"Authorization\": f\"Bearer {api_key}\"\n",
    "}\n",
    "\n",
    "# PNG abrufen\n",
    "response = requests.get(export_url, headers=headers)\n",
    "\n",
    "# Bild speichern, falls erfolgreich# Bild speichern, falls erfolgreich\n",
    "if response.status_code == 200:\n",
    "    with open(\"20250429_Sachsen.png\", \"wb\") as f:\n",
    "        f.write(response.content)\n",
    "    print(\"PNG erfolgreich gespeichert.\")\n",
    "else:\n",
    "    print(\"Fehler beim Export:\", response.status_code, response.text)\n",
    "\n",
    "\n",
    "\n",
    "\n",
    "\n"
   ]
  },
  {
   "cell_type": "markdown",
   "metadata": {},
   "source": [
    "# Schleswig-Holstein"
   ]
  },
  {
   "cell_type": "code",
   "execution_count": 9,
   "metadata": {},
   "outputs": [
    {
     "name": "stderr",
     "output_type": "stream",
     "text": [
      "C:\\Users\\chris\\AppData\\Local\\Temp\\ipykernel_2408\\542291431.py:18: FutureWarning: Downcasting behavior in `replace` is deprecated and will be removed in a future version. To retain the old behavior, explicitly call `result.infer_objects(copy=False)`. To opt-in to the future behavior, set `pd.set_option('future.no_silent_downcasting', True)`\n",
      "  dfmv = dfmv.replace('✓', 1)\n"
     ]
    },
    {
     "data": {
      "text/html": [
       "<div>\n",
       "<style scoped>\n",
       "    .dataframe tbody tr th:only-of-type {\n",
       "        vertical-align: middle;\n",
       "    }\n",
       "\n",
       "    .dataframe tbody tr th {\n",
       "        vertical-align: top;\n",
       "    }\n",
       "\n",
       "    .dataframe thead th {\n",
       "        text-align: right;\n",
       "    }\n",
       "</style>\n",
       "<table border=\"1\" class=\"dataframe\">\n",
       "  <thead>\n",
       "    <tr style=\"text-align: right;\">\n",
       "      <th></th>\n",
       "      <th>Bewertung</th>\n",
       "      <th>Nutzer in %</th>\n",
       "    </tr>\n",
       "  </thead>\n",
       "  <tbody>\n",
       "    <tr>\n",
       "      <th>0</th>\n",
       "      <td>Ja.</td>\n",
       "      <td>91.2</td>\n",
       "    </tr>\n",
       "    <tr>\n",
       "      <th>1</th>\n",
       "      <td>Nein.</td>\n",
       "      <td>5.3</td>\n",
       "    </tr>\n",
       "    <tr>\n",
       "      <th>2</th>\n",
       "      <td>Ist mir egal.</td>\n",
       "      <td>3.5</td>\n",
       "    </tr>\n",
       "  </tbody>\n",
       "</table>\n",
       "</div>"
      ],
      "text/plain": [
       "       Bewertung  Nutzer in %\n",
       "0            Ja.         91.2\n",
       "1          Nein.          5.3\n",
       "2  Ist mir egal.          3.5"
      ]
     },
     "execution_count": 9,
     "metadata": {},
     "output_type": "execute_result"
    }
   ],
   "source": [
    "dfmv = pd.read_excel(\"./sh.xlsx\")\n",
    "üs=\"Sollte die Bäderbahn reaktiviert werden?\"\n",
    "# Neue Spaltennamen generieren\n",
    "new_columns = []\n",
    "for i, col in enumerate(dfmv.columns):\n",
    "    if i <= 5:\n",
    "        new_columns.append(dfmv.iloc[0, i])\n",
    "    else:\n",
    "        new_columns.append(dfmv.iloc[2, i])\n",
    "\n",
    "# Spaltennamen setzen\n",
    "dfmv.columns = new_columns\n",
    "\n",
    "# Die Hilfszeilen entfernen (Zeile 0, 1 und 2)\n",
    "dfmv = dfmv.iloc[3:].reset_index(drop=True)\n",
    "\n",
    "# Ersetze den Haken durch 1\n",
    "dfmv = dfmv.replace('✓', 1)\n",
    "\n",
    "# Ersetze alle NaN-Werte durch 0\n",
    "dfmv = dfmv.fillna(0)   \n",
    "\n",
    "# bewertungsspalten\n",
    "bew_spalten = ['Ja.', \"Nein.\", \"Ist mir egal.\"]\n",
    "\n",
    "# Anzahl der Nutzer (Zeilen im DataFrame)\n",
    "anzahl_nutzer = len(dfmv)\n",
    "\n",
    "# Prozentuale Verteilung berechnen\n",
    "prozent_nutzer = {}\n",
    "for spalte in bew_spalten:\n",
    "    anzahl = dfmv[spalte].sum()\n",
    "    prozent = (anzahl / anzahl_nutzer) * 100\n",
    "    prozent_nutzer[spalte] = prozent\n",
    "\n",
    "# Neue Tabelle erstellen\n",
    "ergebnis_df = pd.DataFrame({\n",
    "    \"Nutzer in %\": [prozent_nutzer[spalte] for spalte in bew_spalten]\n",
    "}, index=bew_spalten)\n",
    "\n",
    "# Ausgabe\n",
    "from decimal import Decimal, ROUND_HALF_UP\n",
    "def kaufmaennisch_runden(x):    \n",
    "    return float(Decimal(x).quantize(Decimal('1.0'), rounding=ROUND_HALF_UP))\n",
    "ergebnis_df[\"Nutzer in %\"] = ergebnis_df[\"Nutzer in %\"].apply(kaufmaennisch_runden)\n",
    "# Index zur Spalte machen\n",
    "ergebnis_df = ergebnis_df.reset_index()\n",
    "ergebnis_df = ergebnis_df.rename(columns={'index': 'Bewertung'})    \n",
    "ergebnis_df.to_clipboard(index=False)\n",
    "ergebnis_df.to_csv(\"ergebnis_sh.csv\", index=False)\n",
    "ergebnis_df\n"
   ]
  },
  {
   "cell_type": "markdown",
   "metadata": {},
   "source": []
  },
  {
   "cell_type": "code",
   "execution_count": null,
   "metadata": {},
   "outputs": [],
   "source": []
  },
  {
   "cell_type": "markdown",
   "metadata": {},
   "source": [
    "# Automatisierte Grafikerstellung"
   ]
  },
  {
   "cell_type": "code",
   "execution_count": 11,
   "metadata": {},
   "outputs": [],
   "source": [
    "import pandas as pd\n",
    "import numpy as np\n",
    "import matplotlib.pyplot as plt\n",
    "import seaborn as sns\n",
    "import os\n",
    "from pathlib import Path\n",
    "import pandas as pd\n",
    "import plotly.graph_objects as go\n",
    "import plotly.io as pio  \n",
    "from plotly.io import write_image\n",
    "\n",
    "\n",
    "nisa = pd.read_csv(\"ergebnis_nisa.csv\")\n",
    "bb = pd.read_csv(\"ergebnis_bb.csv\")\n",
    "mv = pd.read_csv(\"ergebnis_mv.csv\")\n",
    "sn = pd.read_csv(\"ergebnis_sn.csv\")\n",
    "\n",
    "url_DIN_font = \"https://assets.rndtech.de/one/fonts/DINNextLTPro/DINNextLTPro-Bold.ttf\"\n",
    "url_Inter_font = \"https://assets.rndtech.de/one/fonts/Inter/Inter-Regular.ttf\"\n",
    "\n",
    "\n",
    "\n"
   ]
  },
  {
   "cell_type": "code",
   "execution_count": 12,
   "metadata": {},
   "outputs": [
    {
     "data": {
      "application/vnd.plotly.v1+json": {
       "config": {
        "plotlyServerURL": "https://plot.ly"
       },
       "data": [
        {
         "marker": {
          "color": "rgba(66, 133, 244, 1)"
         },
         "orientation": "h",
         "text": [
          "21,9%",
          "31,4%",
          "16,1%",
          "11,5%",
          "12,9%",
          "6,3%"
         ],
         "textfont": {
          "family": "Inter, sans-serif",
          "size": 14
         },
         "textposition": "outside",
         "type": "bar",
         "width": 0.7,
         "x": {
          "bdata": "ZmZmZmbmNUBmZmZmZmY/QJqZmZmZGTBAAAAAAAAAJ0DNzMzMzMwpQDMzMzMzMxlA",
          "dtype": "f8"
         },
         "y": [
          "Sehr gut",
          "Gut",
          "Befriedigend",
          "Ausreichend",
          "Mangelhaft",
          "Ungenügend"
         ]
        }
       ],
       "layout": {
        "annotations": [
         {
          "align": "left",
          "font": {
           "family": "Inter, sans-serif",
           "size": 16
          },
          "showarrow": false,
          "text": "Insgesamt haben 1002 Menschen an der Umfrage teilgenommen.",
          "x": 0,
          "xref": "paper",
          "y": 0.87,
          "yref": "paper"
         },
         {
          "align": "left",
          "font": {
           "family": "Inter, sans-serif",
           "size": 12
          },
          "showarrow": false,
          "text": "Summe kann aufgrund von Rundungen von 100% abweichen.",
          "x": 0,
          "xref": "paper",
          "y": -0.12,
          "yref": "paper"
         },
         {
          "align": "left",
          "font": {
           "family": "Inter, sans-serif",
           "size": 12
          },
          "showarrow": false,
          "text": "Grafik: Knoop/RND • Quelle: eigene Umfrage",
          "x": 0,
          "xref": "paper",
          "y": -0.17,
          "yref": "paper"
         }
        ],
        "height": 338,
        "margin": {
         "b": 80,
         "l": 120,
         "r": 30,
         "t": 150
        },
        "paper_bgcolor": "white",
        "plot_bgcolor": "white",
        "template": {
         "data": {
          "bar": [
           {
            "error_x": {
             "color": "#2a3f5f"
            },
            "error_y": {
             "color": "#2a3f5f"
            },
            "marker": {
             "line": {
              "color": "white",
              "width": 0.5
             },
             "pattern": {
              "fillmode": "overlay",
              "size": 10,
              "solidity": 0.2
             }
            },
            "type": "bar"
           }
          ],
          "barpolar": [
           {
            "marker": {
             "line": {
              "color": "white",
              "width": 0.5
             },
             "pattern": {
              "fillmode": "overlay",
              "size": 10,
              "solidity": 0.2
             }
            },
            "type": "barpolar"
           }
          ],
          "carpet": [
           {
            "aaxis": {
             "endlinecolor": "#2a3f5f",
             "gridcolor": "#C8D4E3",
             "linecolor": "#C8D4E3",
             "minorgridcolor": "#C8D4E3",
             "startlinecolor": "#2a3f5f"
            },
            "baxis": {
             "endlinecolor": "#2a3f5f",
             "gridcolor": "#C8D4E3",
             "linecolor": "#C8D4E3",
             "minorgridcolor": "#C8D4E3",
             "startlinecolor": "#2a3f5f"
            },
            "type": "carpet"
           }
          ],
          "choropleth": [
           {
            "colorbar": {
             "outlinewidth": 0,
             "ticks": ""
            },
            "type": "choropleth"
           }
          ],
          "contour": [
           {
            "colorbar": {
             "outlinewidth": 0,
             "ticks": ""
            },
            "colorscale": [
             [
              0,
              "#0d0887"
             ],
             [
              0.1111111111111111,
              "#46039f"
             ],
             [
              0.2222222222222222,
              "#7201a8"
             ],
             [
              0.3333333333333333,
              "#9c179e"
             ],
             [
              0.4444444444444444,
              "#bd3786"
             ],
             [
              0.5555555555555556,
              "#d8576b"
             ],
             [
              0.6666666666666666,
              "#ed7953"
             ],
             [
              0.7777777777777778,
              "#fb9f3a"
             ],
             [
              0.8888888888888888,
              "#fdca26"
             ],
             [
              1,
              "#f0f921"
             ]
            ],
            "type": "contour"
           }
          ],
          "contourcarpet": [
           {
            "colorbar": {
             "outlinewidth": 0,
             "ticks": ""
            },
            "type": "contourcarpet"
           }
          ],
          "heatmap": [
           {
            "colorbar": {
             "outlinewidth": 0,
             "ticks": ""
            },
            "colorscale": [
             [
              0,
              "#0d0887"
             ],
             [
              0.1111111111111111,
              "#46039f"
             ],
             [
              0.2222222222222222,
              "#7201a8"
             ],
             [
              0.3333333333333333,
              "#9c179e"
             ],
             [
              0.4444444444444444,
              "#bd3786"
             ],
             [
              0.5555555555555556,
              "#d8576b"
             ],
             [
              0.6666666666666666,
              "#ed7953"
             ],
             [
              0.7777777777777778,
              "#fb9f3a"
             ],
             [
              0.8888888888888888,
              "#fdca26"
             ],
             [
              1,
              "#f0f921"
             ]
            ],
            "type": "heatmap"
           }
          ],
          "histogram": [
           {
            "marker": {
             "pattern": {
              "fillmode": "overlay",
              "size": 10,
              "solidity": 0.2
             }
            },
            "type": "histogram"
           }
          ],
          "histogram2d": [
           {
            "colorbar": {
             "outlinewidth": 0,
             "ticks": ""
            },
            "colorscale": [
             [
              0,
              "#0d0887"
             ],
             [
              0.1111111111111111,
              "#46039f"
             ],
             [
              0.2222222222222222,
              "#7201a8"
             ],
             [
              0.3333333333333333,
              "#9c179e"
             ],
             [
              0.4444444444444444,
              "#bd3786"
             ],
             [
              0.5555555555555556,
              "#d8576b"
             ],
             [
              0.6666666666666666,
              "#ed7953"
             ],
             [
              0.7777777777777778,
              "#fb9f3a"
             ],
             [
              0.8888888888888888,
              "#fdca26"
             ],
             [
              1,
              "#f0f921"
             ]
            ],
            "type": "histogram2d"
           }
          ],
          "histogram2dcontour": [
           {
            "colorbar": {
             "outlinewidth": 0,
             "ticks": ""
            },
            "colorscale": [
             [
              0,
              "#0d0887"
             ],
             [
              0.1111111111111111,
              "#46039f"
             ],
             [
              0.2222222222222222,
              "#7201a8"
             ],
             [
              0.3333333333333333,
              "#9c179e"
             ],
             [
              0.4444444444444444,
              "#bd3786"
             ],
             [
              0.5555555555555556,
              "#d8576b"
             ],
             [
              0.6666666666666666,
              "#ed7953"
             ],
             [
              0.7777777777777778,
              "#fb9f3a"
             ],
             [
              0.8888888888888888,
              "#fdca26"
             ],
             [
              1,
              "#f0f921"
             ]
            ],
            "type": "histogram2dcontour"
           }
          ],
          "mesh3d": [
           {
            "colorbar": {
             "outlinewidth": 0,
             "ticks": ""
            },
            "type": "mesh3d"
           }
          ],
          "parcoords": [
           {
            "line": {
             "colorbar": {
              "outlinewidth": 0,
              "ticks": ""
             }
            },
            "type": "parcoords"
           }
          ],
          "pie": [
           {
            "automargin": true,
            "type": "pie"
           }
          ],
          "scatter": [
           {
            "fillpattern": {
             "fillmode": "overlay",
             "size": 10,
             "solidity": 0.2
            },
            "type": "scatter"
           }
          ],
          "scatter3d": [
           {
            "line": {
             "colorbar": {
              "outlinewidth": 0,
              "ticks": ""
             }
            },
            "marker": {
             "colorbar": {
              "outlinewidth": 0,
              "ticks": ""
             }
            },
            "type": "scatter3d"
           }
          ],
          "scattercarpet": [
           {
            "marker": {
             "colorbar": {
              "outlinewidth": 0,
              "ticks": ""
             }
            },
            "type": "scattercarpet"
           }
          ],
          "scattergeo": [
           {
            "marker": {
             "colorbar": {
              "outlinewidth": 0,
              "ticks": ""
             }
            },
            "type": "scattergeo"
           }
          ],
          "scattergl": [
           {
            "marker": {
             "colorbar": {
              "outlinewidth": 0,
              "ticks": ""
             }
            },
            "type": "scattergl"
           }
          ],
          "scattermap": [
           {
            "marker": {
             "colorbar": {
              "outlinewidth": 0,
              "ticks": ""
             }
            },
            "type": "scattermap"
           }
          ],
          "scattermapbox": [
           {
            "marker": {
             "colorbar": {
              "outlinewidth": 0,
              "ticks": ""
             }
            },
            "type": "scattermapbox"
           }
          ],
          "scatterpolar": [
           {
            "marker": {
             "colorbar": {
              "outlinewidth": 0,
              "ticks": ""
             }
            },
            "type": "scatterpolar"
           }
          ],
          "scatterpolargl": [
           {
            "marker": {
             "colorbar": {
              "outlinewidth": 0,
              "ticks": ""
             }
            },
            "type": "scatterpolargl"
           }
          ],
          "scatterternary": [
           {
            "marker": {
             "colorbar": {
              "outlinewidth": 0,
              "ticks": ""
             }
            },
            "type": "scatterternary"
           }
          ],
          "surface": [
           {
            "colorbar": {
             "outlinewidth": 0,
             "ticks": ""
            },
            "colorscale": [
             [
              0,
              "#0d0887"
             ],
             [
              0.1111111111111111,
              "#46039f"
             ],
             [
              0.2222222222222222,
              "#7201a8"
             ],
             [
              0.3333333333333333,
              "#9c179e"
             ],
             [
              0.4444444444444444,
              "#bd3786"
             ],
             [
              0.5555555555555556,
              "#d8576b"
             ],
             [
              0.6666666666666666,
              "#ed7953"
             ],
             [
              0.7777777777777778,
              "#fb9f3a"
             ],
             [
              0.8888888888888888,
              "#fdca26"
             ],
             [
              1,
              "#f0f921"
             ]
            ],
            "type": "surface"
           }
          ],
          "table": [
           {
            "cells": {
             "fill": {
              "color": "#EBF0F8"
             },
             "line": {
              "color": "white"
             }
            },
            "header": {
             "fill": {
              "color": "#C8D4E3"
             },
             "line": {
              "color": "white"
             }
            },
            "type": "table"
           }
          ]
         },
         "layout": {
          "annotationdefaults": {
           "arrowcolor": "#2a3f5f",
           "arrowhead": 0,
           "arrowwidth": 1
          },
          "autotypenumbers": "strict",
          "coloraxis": {
           "colorbar": {
            "outlinewidth": 0,
            "ticks": ""
           }
          },
          "colorscale": {
           "diverging": [
            [
             0,
             "#8e0152"
            ],
            [
             0.1,
             "#c51b7d"
            ],
            [
             0.2,
             "#de77ae"
            ],
            [
             0.3,
             "#f1b6da"
            ],
            [
             0.4,
             "#fde0ef"
            ],
            [
             0.5,
             "#f7f7f7"
            ],
            [
             0.6,
             "#e6f5d0"
            ],
            [
             0.7,
             "#b8e186"
            ],
            [
             0.8,
             "#7fbc41"
            ],
            [
             0.9,
             "#4d9221"
            ],
            [
             1,
             "#276419"
            ]
           ],
           "sequential": [
            [
             0,
             "#0d0887"
            ],
            [
             0.1111111111111111,
             "#46039f"
            ],
            [
             0.2222222222222222,
             "#7201a8"
            ],
            [
             0.3333333333333333,
             "#9c179e"
            ],
            [
             0.4444444444444444,
             "#bd3786"
            ],
            [
             0.5555555555555556,
             "#d8576b"
            ],
            [
             0.6666666666666666,
             "#ed7953"
            ],
            [
             0.7777777777777778,
             "#fb9f3a"
            ],
            [
             0.8888888888888888,
             "#fdca26"
            ],
            [
             1,
             "#f0f921"
            ]
           ],
           "sequentialminus": [
            [
             0,
             "#0d0887"
            ],
            [
             0.1111111111111111,
             "#46039f"
            ],
            [
             0.2222222222222222,
             "#7201a8"
            ],
            [
             0.3333333333333333,
             "#9c179e"
            ],
            [
             0.4444444444444444,
             "#bd3786"
            ],
            [
             0.5555555555555556,
             "#d8576b"
            ],
            [
             0.6666666666666666,
             "#ed7953"
            ],
            [
             0.7777777777777778,
             "#fb9f3a"
            ],
            [
             0.8888888888888888,
             "#fdca26"
            ],
            [
             1,
             "#f0f921"
            ]
           ]
          },
          "colorway": [
           "#636efa",
           "#EF553B",
           "#00cc96",
           "#ab63fa",
           "#FFA15A",
           "#19d3f3",
           "#FF6692",
           "#B6E880",
           "#FF97FF",
           "#FECB52"
          ],
          "font": {
           "color": "#2a3f5f"
          },
          "geo": {
           "bgcolor": "white",
           "lakecolor": "white",
           "landcolor": "white",
           "showlakes": true,
           "showland": true,
           "subunitcolor": "#C8D4E3"
          },
          "hoverlabel": {
           "align": "left"
          },
          "hovermode": "closest",
          "mapbox": {
           "style": "light"
          },
          "paper_bgcolor": "white",
          "plot_bgcolor": "white",
          "polar": {
           "angularaxis": {
            "gridcolor": "#EBF0F8",
            "linecolor": "#EBF0F8",
            "ticks": ""
           },
           "bgcolor": "white",
           "radialaxis": {
            "gridcolor": "#EBF0F8",
            "linecolor": "#EBF0F8",
            "ticks": ""
           }
          },
          "scene": {
           "xaxis": {
            "backgroundcolor": "white",
            "gridcolor": "#DFE8F3",
            "gridwidth": 2,
            "linecolor": "#EBF0F8",
            "showbackground": true,
            "ticks": "",
            "zerolinecolor": "#EBF0F8"
           },
           "yaxis": {
            "backgroundcolor": "white",
            "gridcolor": "#DFE8F3",
            "gridwidth": 2,
            "linecolor": "#EBF0F8",
            "showbackground": true,
            "ticks": "",
            "zerolinecolor": "#EBF0F8"
           },
           "zaxis": {
            "backgroundcolor": "white",
            "gridcolor": "#DFE8F3",
            "gridwidth": 2,
            "linecolor": "#EBF0F8",
            "showbackground": true,
            "ticks": "",
            "zerolinecolor": "#EBF0F8"
           }
          },
          "shapedefaults": {
           "line": {
            "color": "#2a3f5f"
           }
          },
          "ternary": {
           "aaxis": {
            "gridcolor": "#DFE8F3",
            "linecolor": "#A2B1C6",
            "ticks": ""
           },
           "baxis": {
            "gridcolor": "#DFE8F3",
            "linecolor": "#A2B1C6",
            "ticks": ""
           },
           "bgcolor": "white",
           "caxis": {
            "gridcolor": "#DFE8F3",
            "linecolor": "#A2B1C6",
            "ticks": ""
           }
          },
          "title": {
           "x": 0.05
          },
          "xaxis": {
           "automargin": true,
           "gridcolor": "#EBF0F8",
           "linecolor": "#EBF0F8",
           "ticks": "",
           "title": {
            "standoff": 15
           },
           "zerolinecolor": "#EBF0F8",
           "zerolinewidth": 2
          },
          "yaxis": {
           "automargin": true,
           "gridcolor": "#EBF0F8",
           "linecolor": "#EBF0F8",
           "ticks": "",
           "title": {
            "standoff": 15
           },
           "zerolinecolor": "#EBF0F8",
           "zerolinewidth": 2
          }
         }
        },
        "title": {
         "font": {
          "family": "DIN, sans-serif",
          "size": 22
         },
         "text": "Wir haben gefragt: Welche Note geben Sie der rot-grünen<br>Landesregierung?",
         "x": 0,
         "y": 0.98
        },
        "width": 600,
        "xaxis": {
         "linecolor": "white",
         "range": [
          0,
          34.54
         ],
         "showgrid": false,
         "tickfont": {
          "family": "Inter, sans-serif",
          "size": 14
         },
         "ticksuffix": "%",
         "zeroline": false
        },
        "yaxis": {
         "autorange": "reversed",
         "linecolor": "white",
         "showgrid": false,
         "tickfont": {
          "family": "Inter, sans-serif",
          "size": 14
         }
        }
       }
      }
     },
     "metadata": {},
     "output_type": "display_data"
    }
   ],
   "source": [
    "import plotly.graph_objects as go\n",
    "import pandas as pd\n",
    "\n",
    "# Daten einlesen\n",
    "df = pd.read_csv('ergebnis_nisa.csv')\n",
    "\n",
    "# Farbeinstellungen\n",
    "bar_color = 'rgba(66, 133, 244, 1)'  # Blauer Farbton wie im Original\n",
    "\n",
    "# Figur erstellen (600x338)\n",
    "fig = go.Figure()\n",
    "\n",
    "# Balken hinzufügen\n",
    "fig.add_trace(go.Bar(\n",
    "    x=df['Nutzer in %'],\n",
    "    y=df['Bewertung'],\n",
    "    orientation='h',\n",
    "    marker_color=bar_color,\n",
    "    text=df['Nutzer in %'].apply(lambda x: f\"{x}%\".replace('.', ',')),\n",
    "    textposition='outside',\n",
    "    textfont=dict(family='Inter, sans-serif', size=14),\n",
    "    width=0.7  # Breite der Balken anpassen\n",
    "))\n",
    "\n",
    "# Layout konfigurieren\n",
    "fig.update_layout(\n",
    "    width=600,\n",
    "    height=338,\n",
    "    margin=dict(l=120, r=30, t=150, b=80),\n",
    "    paper_bgcolor='white',\n",
    "    plot_bgcolor='white',\n",
    "    title=dict(\n",
    "        text=\"Wir haben gefragt: Welche Note geben Sie der rot-grünen<br>Landesregierung?\",\n",
    "        font=dict(family='DIN, sans-serif', size=22),\n",
    "        x=0,\n",
    "        y=0.98\n",
    "    ),\n",
    "    yaxis=dict(\n",
    "        autorange=\"reversed\",  # Um die Reihenfolge wie im Original zu haben\n",
    "        tickfont=dict(family='Inter, sans-serif', size=14),\n",
    "        linecolor='white',\n",
    "        showgrid=False\n",
    "    ),\n",
    "    xaxis=dict(\n",
    "        range=[0, max(df['Nutzer in %']) * 1.1],  # Etwas mehr Platz für Text\n",
    "        ticksuffix='%',\n",
    "        tickfont=dict(family='Inter, sans-serif', size=14),\n",
    "        linecolor='white',\n",
    "        showgrid=False,\n",
    "        zeroline=False\n",
    "    )\n",
    ")\n",
    "\n",
    "# Subtitle hinzufügen\n",
    "fig.add_annotation(\n",
    "    text=\"Insgesamt haben 1002 Menschen an der Umfrage teilgenommen.\",\n",
    "    font=dict(family='Inter, sans-serif', size=16),\n",
    "    xref=\"paper\", yref=\"paper\",\n",
    "    x=0, y=0.87,\n",
    "    showarrow=False,\n",
    "    align=\"left\"\n",
    ")\n",
    "\n",
    "# Fußnote hinzufügen\n",
    "fig.add_annotation(\n",
    "    text=\"Summe kann aufgrund von Rundungen von 100% abweichen.\",\n",
    "    font=dict(family='Inter, sans-serif', size=12),\n",
    "    xref=\"paper\", yref=\"paper\",\n",
    "    x=0, y=-0.12,\n",
    "    showarrow=False,\n",
    "    align=\"left\"\n",
    ")\n",
    "\n",
    "# Quelle hinzufügen\n",
    "fig.add_annotation(\n",
    "    text=\"Grafik: Knoop/RND • Quelle: eigene Umfrage\",\n",
    "    font=dict(family='Inter, sans-serif', size=12),\n",
    "    xref=\"paper\", yref=\"paper\",\n",
    "    x=0, y=-0.17,\n",
    "    showarrow=False,\n",
    "    align=\"left\"\n",
    ")\n",
    "\n",
    "# Bildschirmausgabe\n",
    "fig.show()\n",
    "\n",
    "# Speichern als Bild\n",
    "fig.write_image(\"plotly_nisa_umfrage2.png\")"
   ]
  },
  {
   "cell_type": "code",
   "execution_count": 13,
   "metadata": {},
   "outputs": [
    {
     "data": {
      "application/vnd.plotly.v1+json": {
       "config": {
        "plotlyServerURL": "https://plot.ly"
       },
       "data": [
        {
         "marker": {
          "color": "rgba(66, 133, 244, 1)"
         },
         "orientation": "h",
         "text": [
          "21,9%",
          "31,4%",
          "16,1%",
          "11,5%",
          "12,9%",
          "6,3%"
         ],
         "textfont": {
          "family": "\"Inter\", sans-serif",
          "size": 14
         },
         "textposition": "outside",
         "type": "bar",
         "width": 0.7,
         "x": {
          "bdata": "ZmZmZmbmNUBmZmZmZmY/QJqZmZmZGTBAAAAAAAAAJ0DNzMzMzMwpQDMzMzMzMxlA",
          "dtype": "f8"
         },
         "y": [
          "Sehr gut",
          "Gut",
          "Befriedigend",
          "Ausreichend",
          "Mangelhaft",
          "Ungenügend"
         ]
        }
       ],
       "layout": {
        "annotations": [
         {
          "align": "left",
          "font": {
           "family": "\"Inter\", sans-serif",
           "size": 16
          },
          "showarrow": false,
          "text": "Insgesamt haben 1002 Menschen an der Umfrage teilgenommen.",
          "x": 0,
          "xref": "paper",
          "y": 0.87,
          "yref": "paper"
         },
         {
          "align": "left",
          "font": {
           "family": "\"Inter\", sans-serif",
           "size": 12
          },
          "showarrow": false,
          "text": "Summe kann aufgrund von Rundungen von 100% abweichen.",
          "x": 0,
          "xref": "paper",
          "y": -0.12,
          "yref": "paper"
         },
         {
          "align": "left",
          "font": {
           "family": "\"Inter\", sans-serif",
           "size": 12
          },
          "showarrow": false,
          "text": "Grafik: Knoop/RND • Quelle: eigene Umfrage",
          "x": 0,
          "xref": "paper",
          "y": -0.17,
          "yref": "paper"
         }
        ],
        "height": 338,
        "margin": {
         "b": 80,
         "l": 120,
         "r": 30,
         "t": 150
        },
        "paper_bgcolor": "white",
        "plot_bgcolor": "white",
        "template": {
         "data": {
          "bar": [
           {
            "error_x": {
             "color": "#2a3f5f"
            },
            "error_y": {
             "color": "#2a3f5f"
            },
            "marker": {
             "line": {
              "color": "white",
              "width": 0.5
             },
             "pattern": {
              "fillmode": "overlay",
              "size": 10,
              "solidity": 0.2
             }
            },
            "type": "bar"
           }
          ],
          "barpolar": [
           {
            "marker": {
             "line": {
              "color": "white",
              "width": 0.5
             },
             "pattern": {
              "fillmode": "overlay",
              "size": 10,
              "solidity": 0.2
             }
            },
            "type": "barpolar"
           }
          ],
          "carpet": [
           {
            "aaxis": {
             "endlinecolor": "#2a3f5f",
             "gridcolor": "#C8D4E3",
             "linecolor": "#C8D4E3",
             "minorgridcolor": "#C8D4E3",
             "startlinecolor": "#2a3f5f"
            },
            "baxis": {
             "endlinecolor": "#2a3f5f",
             "gridcolor": "#C8D4E3",
             "linecolor": "#C8D4E3",
             "minorgridcolor": "#C8D4E3",
             "startlinecolor": "#2a3f5f"
            },
            "type": "carpet"
           }
          ],
          "choropleth": [
           {
            "colorbar": {
             "outlinewidth": 0,
             "ticks": ""
            },
            "type": "choropleth"
           }
          ],
          "contour": [
           {
            "colorbar": {
             "outlinewidth": 0,
             "ticks": ""
            },
            "colorscale": [
             [
              0,
              "#0d0887"
             ],
             [
              0.1111111111111111,
              "#46039f"
             ],
             [
              0.2222222222222222,
              "#7201a8"
             ],
             [
              0.3333333333333333,
              "#9c179e"
             ],
             [
              0.4444444444444444,
              "#bd3786"
             ],
             [
              0.5555555555555556,
              "#d8576b"
             ],
             [
              0.6666666666666666,
              "#ed7953"
             ],
             [
              0.7777777777777778,
              "#fb9f3a"
             ],
             [
              0.8888888888888888,
              "#fdca26"
             ],
             [
              1,
              "#f0f921"
             ]
            ],
            "type": "contour"
           }
          ],
          "contourcarpet": [
           {
            "colorbar": {
             "outlinewidth": 0,
             "ticks": ""
            },
            "type": "contourcarpet"
           }
          ],
          "heatmap": [
           {
            "colorbar": {
             "outlinewidth": 0,
             "ticks": ""
            },
            "colorscale": [
             [
              0,
              "#0d0887"
             ],
             [
              0.1111111111111111,
              "#46039f"
             ],
             [
              0.2222222222222222,
              "#7201a8"
             ],
             [
              0.3333333333333333,
              "#9c179e"
             ],
             [
              0.4444444444444444,
              "#bd3786"
             ],
             [
              0.5555555555555556,
              "#d8576b"
             ],
             [
              0.6666666666666666,
              "#ed7953"
             ],
             [
              0.7777777777777778,
              "#fb9f3a"
             ],
             [
              0.8888888888888888,
              "#fdca26"
             ],
             [
              1,
              "#f0f921"
             ]
            ],
            "type": "heatmap"
           }
          ],
          "histogram": [
           {
            "marker": {
             "pattern": {
              "fillmode": "overlay",
              "size": 10,
              "solidity": 0.2
             }
            },
            "type": "histogram"
           }
          ],
          "histogram2d": [
           {
            "colorbar": {
             "outlinewidth": 0,
             "ticks": ""
            },
            "colorscale": [
             [
              0,
              "#0d0887"
             ],
             [
              0.1111111111111111,
              "#46039f"
             ],
             [
              0.2222222222222222,
              "#7201a8"
             ],
             [
              0.3333333333333333,
              "#9c179e"
             ],
             [
              0.4444444444444444,
              "#bd3786"
             ],
             [
              0.5555555555555556,
              "#d8576b"
             ],
             [
              0.6666666666666666,
              "#ed7953"
             ],
             [
              0.7777777777777778,
              "#fb9f3a"
             ],
             [
              0.8888888888888888,
              "#fdca26"
             ],
             [
              1,
              "#f0f921"
             ]
            ],
            "type": "histogram2d"
           }
          ],
          "histogram2dcontour": [
           {
            "colorbar": {
             "outlinewidth": 0,
             "ticks": ""
            },
            "colorscale": [
             [
              0,
              "#0d0887"
             ],
             [
              0.1111111111111111,
              "#46039f"
             ],
             [
              0.2222222222222222,
              "#7201a8"
             ],
             [
              0.3333333333333333,
              "#9c179e"
             ],
             [
              0.4444444444444444,
              "#bd3786"
             ],
             [
              0.5555555555555556,
              "#d8576b"
             ],
             [
              0.6666666666666666,
              "#ed7953"
             ],
             [
              0.7777777777777778,
              "#fb9f3a"
             ],
             [
              0.8888888888888888,
              "#fdca26"
             ],
             [
              1,
              "#f0f921"
             ]
            ],
            "type": "histogram2dcontour"
           }
          ],
          "mesh3d": [
           {
            "colorbar": {
             "outlinewidth": 0,
             "ticks": ""
            },
            "type": "mesh3d"
           }
          ],
          "parcoords": [
           {
            "line": {
             "colorbar": {
              "outlinewidth": 0,
              "ticks": ""
             }
            },
            "type": "parcoords"
           }
          ],
          "pie": [
           {
            "automargin": true,
            "type": "pie"
           }
          ],
          "scatter": [
           {
            "fillpattern": {
             "fillmode": "overlay",
             "size": 10,
             "solidity": 0.2
            },
            "type": "scatter"
           }
          ],
          "scatter3d": [
           {
            "line": {
             "colorbar": {
              "outlinewidth": 0,
              "ticks": ""
             }
            },
            "marker": {
             "colorbar": {
              "outlinewidth": 0,
              "ticks": ""
             }
            },
            "type": "scatter3d"
           }
          ],
          "scattercarpet": [
           {
            "marker": {
             "colorbar": {
              "outlinewidth": 0,
              "ticks": ""
             }
            },
            "type": "scattercarpet"
           }
          ],
          "scattergeo": [
           {
            "marker": {
             "colorbar": {
              "outlinewidth": 0,
              "ticks": ""
             }
            },
            "type": "scattergeo"
           }
          ],
          "scattergl": [
           {
            "marker": {
             "colorbar": {
              "outlinewidth": 0,
              "ticks": ""
             }
            },
            "type": "scattergl"
           }
          ],
          "scattermap": [
           {
            "marker": {
             "colorbar": {
              "outlinewidth": 0,
              "ticks": ""
             }
            },
            "type": "scattermap"
           }
          ],
          "scattermapbox": [
           {
            "marker": {
             "colorbar": {
              "outlinewidth": 0,
              "ticks": ""
             }
            },
            "type": "scattermapbox"
           }
          ],
          "scatterpolar": [
           {
            "marker": {
             "colorbar": {
              "outlinewidth": 0,
              "ticks": ""
             }
            },
            "type": "scatterpolar"
           }
          ],
          "scatterpolargl": [
           {
            "marker": {
             "colorbar": {
              "outlinewidth": 0,
              "ticks": ""
             }
            },
            "type": "scatterpolargl"
           }
          ],
          "scatterternary": [
           {
            "marker": {
             "colorbar": {
              "outlinewidth": 0,
              "ticks": ""
             }
            },
            "type": "scatterternary"
           }
          ],
          "surface": [
           {
            "colorbar": {
             "outlinewidth": 0,
             "ticks": ""
            },
            "colorscale": [
             [
              0,
              "#0d0887"
             ],
             [
              0.1111111111111111,
              "#46039f"
             ],
             [
              0.2222222222222222,
              "#7201a8"
             ],
             [
              0.3333333333333333,
              "#9c179e"
             ],
             [
              0.4444444444444444,
              "#bd3786"
             ],
             [
              0.5555555555555556,
              "#d8576b"
             ],
             [
              0.6666666666666666,
              "#ed7953"
             ],
             [
              0.7777777777777778,
              "#fb9f3a"
             ],
             [
              0.8888888888888888,
              "#fdca26"
             ],
             [
              1,
              "#f0f921"
             ]
            ],
            "type": "surface"
           }
          ],
          "table": [
           {
            "cells": {
             "fill": {
              "color": "#EBF0F8"
             },
             "line": {
              "color": "white"
             }
            },
            "header": {
             "fill": {
              "color": "#C8D4E3"
             },
             "line": {
              "color": "white"
             }
            },
            "type": "table"
           }
          ]
         },
         "layout": {
          "annotationdefaults": {
           "arrowcolor": "#2a3f5f",
           "arrowhead": 0,
           "arrowwidth": 1
          },
          "autotypenumbers": "strict",
          "coloraxis": {
           "colorbar": {
            "outlinewidth": 0,
            "ticks": ""
           }
          },
          "colorscale": {
           "diverging": [
            [
             0,
             "#8e0152"
            ],
            [
             0.1,
             "#c51b7d"
            ],
            [
             0.2,
             "#de77ae"
            ],
            [
             0.3,
             "#f1b6da"
            ],
            [
             0.4,
             "#fde0ef"
            ],
            [
             0.5,
             "#f7f7f7"
            ],
            [
             0.6,
             "#e6f5d0"
            ],
            [
             0.7,
             "#b8e186"
            ],
            [
             0.8,
             "#7fbc41"
            ],
            [
             0.9,
             "#4d9221"
            ],
            [
             1,
             "#276419"
            ]
           ],
           "sequential": [
            [
             0,
             "#0d0887"
            ],
            [
             0.1111111111111111,
             "#46039f"
            ],
            [
             0.2222222222222222,
             "#7201a8"
            ],
            [
             0.3333333333333333,
             "#9c179e"
            ],
            [
             0.4444444444444444,
             "#bd3786"
            ],
            [
             0.5555555555555556,
             "#d8576b"
            ],
            [
             0.6666666666666666,
             "#ed7953"
            ],
            [
             0.7777777777777778,
             "#fb9f3a"
            ],
            [
             0.8888888888888888,
             "#fdca26"
            ],
            [
             1,
             "#f0f921"
            ]
           ],
           "sequentialminus": [
            [
             0,
             "#0d0887"
            ],
            [
             0.1111111111111111,
             "#46039f"
            ],
            [
             0.2222222222222222,
             "#7201a8"
            ],
            [
             0.3333333333333333,
             "#9c179e"
            ],
            [
             0.4444444444444444,
             "#bd3786"
            ],
            [
             0.5555555555555556,
             "#d8576b"
            ],
            [
             0.6666666666666666,
             "#ed7953"
            ],
            [
             0.7777777777777778,
             "#fb9f3a"
            ],
            [
             0.8888888888888888,
             "#fdca26"
            ],
            [
             1,
             "#f0f921"
            ]
           ]
          },
          "colorway": [
           "#636efa",
           "#EF553B",
           "#00cc96",
           "#ab63fa",
           "#FFA15A",
           "#19d3f3",
           "#FF6692",
           "#B6E880",
           "#FF97FF",
           "#FECB52"
          ],
          "font": {
           "color": "#2a3f5f"
          },
          "geo": {
           "bgcolor": "white",
           "lakecolor": "white",
           "landcolor": "white",
           "showlakes": true,
           "showland": true,
           "subunitcolor": "#C8D4E3"
          },
          "hoverlabel": {
           "align": "left"
          },
          "hovermode": "closest",
          "mapbox": {
           "style": "light"
          },
          "paper_bgcolor": "white",
          "plot_bgcolor": "white",
          "polar": {
           "angularaxis": {
            "gridcolor": "#EBF0F8",
            "linecolor": "#EBF0F8",
            "ticks": ""
           },
           "bgcolor": "white",
           "radialaxis": {
            "gridcolor": "#EBF0F8",
            "linecolor": "#EBF0F8",
            "ticks": ""
           }
          },
          "scene": {
           "xaxis": {
            "backgroundcolor": "white",
            "gridcolor": "#DFE8F3",
            "gridwidth": 2,
            "linecolor": "#EBF0F8",
            "showbackground": true,
            "ticks": "",
            "zerolinecolor": "#EBF0F8"
           },
           "yaxis": {
            "backgroundcolor": "white",
            "gridcolor": "#DFE8F3",
            "gridwidth": 2,
            "linecolor": "#EBF0F8",
            "showbackground": true,
            "ticks": "",
            "zerolinecolor": "#EBF0F8"
           },
           "zaxis": {
            "backgroundcolor": "white",
            "gridcolor": "#DFE8F3",
            "gridwidth": 2,
            "linecolor": "#EBF0F8",
            "showbackground": true,
            "ticks": "",
            "zerolinecolor": "#EBF0F8"
           }
          },
          "shapedefaults": {
           "line": {
            "color": "#2a3f5f"
           }
          },
          "ternary": {
           "aaxis": {
            "gridcolor": "#DFE8F3",
            "linecolor": "#A2B1C6",
            "ticks": ""
           },
           "baxis": {
            "gridcolor": "#DFE8F3",
            "linecolor": "#A2B1C6",
            "ticks": ""
           },
           "bgcolor": "white",
           "caxis": {
            "gridcolor": "#DFE8F3",
            "linecolor": "#A2B1C6",
            "ticks": ""
           }
          },
          "title": {
           "x": 0.05
          },
          "xaxis": {
           "automargin": true,
           "gridcolor": "#EBF0F8",
           "linecolor": "#EBF0F8",
           "ticks": "",
           "title": {
            "standoff": 15
           },
           "zerolinecolor": "#EBF0F8",
           "zerolinewidth": 2
          },
          "yaxis": {
           "automargin": true,
           "gridcolor": "#EBF0F8",
           "linecolor": "#EBF0F8",
           "ticks": "",
           "title": {
            "standoff": 15
           },
           "zerolinecolor": "#EBF0F8",
           "zerolinewidth": 2
          }
         }
        },
        "title": {
         "font": {
          "family": "\"DIN\", sans-serif",
          "size": 22
         },
         "text": "Wir haben gefragt: Welche Note geben Sie der rot-grünen<br>Landesregierung?",
         "x": 0,
         "y": 0.98
        },
        "width": 600,
        "xaxis": {
         "linecolor": "white",
         "range": [
          0,
          34.54
         ],
         "showgrid": false,
         "tickfont": {
          "family": "\"Inter\", sans-serif",
          "size": 14
         },
         "ticksuffix": "%",
         "zeroline": false
        },
        "yaxis": {
         "autorange": "reversed",
         "linecolor": "white",
         "showgrid": false,
         "tickfont": {
          "family": "\"Inter\", sans-serif",
          "size": 14
         }
        }
       }
      }
     },
     "metadata": {},
     "output_type": "display_data"
    }
   ],
   "source": [
    "\n",
    "import plotly.graph_objects as go\n",
    "import pandas as pd\n",
    "from plotly.offline import plot\n",
    "\n",
    "# Daten einlesen\n",
    "df = pd.read_csv('ergebnis_nisa.csv')\n",
    "\n",
    "# Farbeinstellungen\n",
    "bar_color = 'rgba(66, 133, 244, 1)'  # Blauer Farbton wie im Original\n",
    "\n",
    "# Figur erstellen (600x338)\n",
    "fig = go.Figure()\n",
    "\n",
    "# Balken hinzufügen\n",
    "fig.add_trace(go.Bar(\n",
    "    x=df['Nutzer in %'],\n",
    "    y=df['Bewertung'],\n",
    "    orientation='h',\n",
    "    marker_color=bar_color,\n",
    "    text=df['Nutzer in %'].apply(lambda x: f\"{x}%\".replace('.', ',')),\n",
    "    textposition='outside',\n",
    "    textfont=dict(family='\"Inter\", sans-serif', size=14),  # Anführungszeichen für mehr Kompatibilität\n",
    "    width=0.7  # Breite der Balken anpassen\n",
    "))\n",
    "\n",
    "# Layout konfigurieren\n",
    "fig.update_layout(\n",
    "    width=600,\n",
    "    height=338,\n",
    "    margin=dict(l=120, r=30, t=150, b=80),\n",
    "    paper_bgcolor='white',\n",
    "    plot_bgcolor='white',\n",
    "    title=dict(\n",
    "        text=\"Wir haben gefragt: Welche Note geben Sie der rot-grünen<br>Landesregierung?\",\n",
    "        font=dict(family='\"DIN\", sans-serif', size=22),  # Anführungszeichen für mehr Kompatibilität\n",
    "        x=0,\n",
    "        y=0.98\n",
    "    ),\n",
    "    yaxis=dict(\n",
    "        autorange=\"reversed\",  # Um die Reihenfolge wie im Original zu haben\n",
    "        tickfont=dict(family='\"Inter\", sans-serif', size=14),\n",
    "        linecolor='white',\n",
    "        showgrid=False\n",
    "    ),\n",
    "    xaxis=dict(\n",
    "        range=[0, max(df['Nutzer in %']) * 1.1],  # Etwas mehr Platz für Text\n",
    "        ticksuffix='%',\n",
    "        tickfont=dict(family='\"Inter\", sans-serif', size=14),\n",
    "        linecolor='white',\n",
    "        showgrid=False,\n",
    "        zeroline=False\n",
    "    )\n",
    ")\n",
    "\n",
    "# Subtitle hinzufügen\n",
    "fig.add_annotation(\n",
    "    text=\"Insgesamt haben 1002 Menschen an der Umfrage teilgenommen.\",\n",
    "    font=dict(family='\"Inter\", sans-serif', size=16),\n",
    "    xref=\"paper\", yref=\"paper\",\n",
    "    x=0, y=0.87,\n",
    "    showarrow=False,\n",
    "    align=\"left\"\n",
    ")\n",
    "\n",
    "# Fußnote hinzufügen\n",
    "fig.add_annotation(\n",
    "    text=\"Summe kann aufgrund von Rundungen von 100% abweichen.\",\n",
    "    font=dict(family='\"Inter\", sans-serif', size=12),\n",
    "    xref=\"paper\", yref=\"paper\",\n",
    "    x=0, y=-0.12,\n",
    "    showarrow=False,\n",
    "    align=\"left\"\n",
    ")\n",
    "\n",
    "# Quelle hinzufügen\n",
    "fig.add_annotation(\n",
    "    text=\"Grafik: Knoop/RND • Quelle: eigene Umfrage\",\n",
    "    font=dict(family='\"Inter\", sans-serif', size=12),\n",
    "    xref=\"paper\", yref=\"paper\",\n",
    "    x=0, y=-0.17,\n",
    "    showarrow=False,\n",
    "    align=\"left\"\n",
    ")\n",
    "\n",
    "# Schriften mit HTML und CSS einbinden - Lösung für exportierte HTML-Dateien\n",
    "html_custom_head = \"\"\"\n",
    "<link href=\"https://fonts.googleapis.com/css2?family=Inter:wght@400;500;600&display=swap\" rel=\"stylesheet\">\n",
    "<style>\n",
    "@font-face {\n",
    "    font-family: 'DIN';\n",
    "    src: url('path/to/your/DIN-font.woff2') format('woff2'),\n",
    "         url('path/to/your/DIN-font.woff') format('woff');\n",
    "    font-weight: normal;\n",
    "    font-style: normal;\n",
    "}\n",
    "</style>\n",
    "\"\"\"\n",
    "\n",
    "# Für die interaktive HTML-Ausgabe\n",
    "config = {\n",
    "    'toImageButtonOptions': {\n",
    "        'format': 'png',\n",
    "        'filename': 'plotly_nisa_umfrage',\n",
    "        'width': 600,\n",
    "        'height': 338,\n",
    "        'scale': 2  # Höhere Auflösung für bessere Qualität\n",
    "    }\n",
    "}\n",
    "\n",
    "# Für HTML mit eingebetteten Schriften speichern\n",
    "plot_html = plot(fig, include_plotlyjs=True, output_type='div', config=config)\n",
    "with open('plotly_nisa_umfrage.html', 'w', encoding='utf-8') as f:\n",
    "    f.write(f\"\"\"\n",
    "    <!DOCTYPE html>\n",
    "    <html>\n",
    "    <head>\n",
    "        <meta charset=\"UTF-8\">\n",
    "        <meta name=\"viewport\" content=\"width=device-width, initial-scale=1.0\">\n",
    "        <title>Umfrage Auswertung</title>\n",
    "        {html_custom_head}\n",
    "    </head>\n",
    "    <body>\n",
    "        {plot_html}\n",
    "    </body>\n",
    "    </html>\n",
    "    \"\"\")\n",
    "\n",
    "# Normale Bildschirmausgabe\n",
    "fig.show()\n",
    "\n",
    "# Für die statische Bildausgabe - mit klatsch-Modul\n",
    "try:\n",
    "    # Kaleido installieren falls nicht vorhanden: pip install kaleido\n",
    "    fig.write_image(\"plotly_nisa_umfrage3.png\", scale=2)  # Scale für bessere Qualität\n",
    "except Exception as e:\n",
    "    print(f\"Fehler beim Speichern des Bildes: {e}\")\n",
    "    print(\"Stelle sicher, dass das Paket 'kaleido' installiert ist: pip install kaleido\")\n"
   ]
  },
  {
   "cell_type": "code",
   "execution_count": null,
   "metadata": {},
   "outputs": [],
   "source": []
  },
  {
   "cell_type": "code",
   "execution_count": null,
   "metadata": {},
   "outputs": [],
   "source": []
  },
  {
   "cell_type": "code",
   "execution_count": null,
   "metadata": {},
   "outputs": [],
   "source": []
  },
  {
   "cell_type": "code",
   "execution_count": null,
   "metadata": {},
   "outputs": [],
   "source": []
  },
  {
   "cell_type": "code",
   "execution_count": null,
   "metadata": {},
   "outputs": [],
   "source": []
  },
  {
   "cell_type": "code",
   "execution_count": null,
   "metadata": {},
   "outputs": [],
   "source": []
  },
  {
   "cell_type": "code",
   "execution_count": 7,
   "metadata": {},
   "outputs": [
    {
     "ename": "ValueError",
     "evalue": "Mime type rendering requires nbformat>=4.2.0 but it is not installed",
     "output_type": "error",
     "traceback": [
      "\u001b[31m---------------------------------------------------------------------------\u001b[39m",
      "\u001b[31mValueError\u001b[39m                                Traceback (most recent call last)",
      "\u001b[36mFile \u001b[39m\u001b[32mc:\\Users\\chris\\Desktop\\rnd\\newsletter_umfragen\\venv\\Lib\\site-packages\\IPython\\core\\formatters.py:984\u001b[39m, in \u001b[36mIPythonDisplayFormatter.__call__\u001b[39m\u001b[34m(self, obj)\u001b[39m\n\u001b[32m    982\u001b[39m method = get_real_method(obj, \u001b[38;5;28mself\u001b[39m.print_method)\n\u001b[32m    983\u001b[39m \u001b[38;5;28;01mif\u001b[39;00m method \u001b[38;5;129;01mis\u001b[39;00m \u001b[38;5;129;01mnot\u001b[39;00m \u001b[38;5;28;01mNone\u001b[39;00m:\n\u001b[32m--> \u001b[39m\u001b[32m984\u001b[39m     \u001b[43mmethod\u001b[49m\u001b[43m(\u001b[49m\u001b[43m)\u001b[49m\n\u001b[32m    985\u001b[39m     \u001b[38;5;28;01mreturn\u001b[39;00m \u001b[38;5;28;01mTrue\u001b[39;00m\n",
      "\u001b[36mFile \u001b[39m\u001b[32mc:\\Users\\chris\\Desktop\\rnd\\newsletter_umfragen\\venv\\Lib\\site-packages\\plotly\\basedatatypes.py:833\u001b[39m, in \u001b[36mBaseFigure._ipython_display_\u001b[39m\u001b[34m(self)\u001b[39m\n\u001b[32m    830\u001b[39m \u001b[38;5;28;01mimport\u001b[39;00m\u001b[38;5;250m \u001b[39m\u001b[34;01mplotly\u001b[39;00m\u001b[34;01m.\u001b[39;00m\u001b[34;01mio\u001b[39;00m\u001b[38;5;250m \u001b[39m\u001b[38;5;28;01mas\u001b[39;00m\u001b[38;5;250m \u001b[39m\u001b[34;01mpio\u001b[39;00m\n\u001b[32m    832\u001b[39m \u001b[38;5;28;01mif\u001b[39;00m pio.renderers.render_on_display \u001b[38;5;129;01mand\u001b[39;00m pio.renderers.default:\n\u001b[32m--> \u001b[39m\u001b[32m833\u001b[39m     \u001b[43mpio\u001b[49m\u001b[43m.\u001b[49m\u001b[43mshow\u001b[49m\u001b[43m(\u001b[49m\u001b[38;5;28;43mself\u001b[39;49m\u001b[43m)\u001b[49m\n\u001b[32m    834\u001b[39m \u001b[38;5;28;01melse\u001b[39;00m:\n\u001b[32m    835\u001b[39m     \u001b[38;5;28mprint\u001b[39m(\u001b[38;5;28mrepr\u001b[39m(\u001b[38;5;28mself\u001b[39m))\n",
      "\u001b[36mFile \u001b[39m\u001b[32mc:\\Users\\chris\\Desktop\\rnd\\newsletter_umfragen\\venv\\Lib\\site-packages\\plotly\\io\\_renderers.py:425\u001b[39m, in \u001b[36mshow\u001b[39m\u001b[34m(fig, renderer, validate, **kwargs)\u001b[39m\n\u001b[32m    420\u001b[39m     \u001b[38;5;28;01mraise\u001b[39;00m \u001b[38;5;167;01mValueError\u001b[39;00m(\n\u001b[32m    421\u001b[39m         \u001b[33m\"\u001b[39m\u001b[33mMime type rendering requires ipython but it is not installed\u001b[39m\u001b[33m\"\u001b[39m\n\u001b[32m    422\u001b[39m     )\n\u001b[32m    424\u001b[39m \u001b[38;5;28;01mif\u001b[39;00m \u001b[38;5;129;01mnot\u001b[39;00m nbformat \u001b[38;5;129;01mor\u001b[39;00m Version(nbformat.__version__) < Version(\u001b[33m\"\u001b[39m\u001b[33m4.2.0\u001b[39m\u001b[33m\"\u001b[39m):\n\u001b[32m--> \u001b[39m\u001b[32m425\u001b[39m     \u001b[38;5;28;01mraise\u001b[39;00m \u001b[38;5;167;01mValueError\u001b[39;00m(\n\u001b[32m    426\u001b[39m         \u001b[33m\"\u001b[39m\u001b[33mMime type rendering requires nbformat>=4.2.0 but it is not installed\u001b[39m\u001b[33m\"\u001b[39m\n\u001b[32m    427\u001b[39m     )\n\u001b[32m    429\u001b[39m display_jupyter_version_warnings()\n\u001b[32m    431\u001b[39m ipython_display.display(bundle, raw=\u001b[38;5;28;01mTrue\u001b[39;00m)\n",
      "\u001b[31mValueError\u001b[39m: Mime type rendering requires nbformat>=4.2.0 but it is not installed"
     ]
    },
    {
     "data": {
      "application/vnd.plotly.v1+json": {
       "config": {
        "plotlyServerURL": "https://plot.ly"
       },
       "data": [
        {
         "hoverinfo": "none",
         "marker": {
          "color": [
           "#2E5EAA",
           "#CF3721"
          ],
          "line": {
           "color": "white",
           "width": 1
          }
         },
         "orientation": "h",
         "text": [
          "65%",
          "35%"
         ],
         "textfont": {
          "color": "#333333",
          "family": "Arial",
          "size": 15
         },
         "textposition": "outside",
         "type": "bar",
         "x": {
          "bdata": "QSM=",
          "dtype": "i1"
         },
         "y": [
          "Ja",
          "Nein"
         ]
        }
       ],
       "layout": {
        "template": {
         "data": {
          "bar": [
           {
            "error_x": {
             "color": "#2a3f5f"
            },
            "error_y": {
             "color": "#2a3f5f"
            },
            "marker": {
             "line": {
              "color": "#E5ECF6",
              "width": 0.5
             },
             "pattern": {
              "fillmode": "overlay",
              "size": 10,
              "solidity": 0.2
             }
            },
            "type": "bar"
           }
          ],
          "barpolar": [
           {
            "marker": {
             "line": {
              "color": "#E5ECF6",
              "width": 0.5
             },
             "pattern": {
              "fillmode": "overlay",
              "size": 10,
              "solidity": 0.2
             }
            },
            "type": "barpolar"
           }
          ],
          "carpet": [
           {
            "aaxis": {
             "endlinecolor": "#2a3f5f",
             "gridcolor": "white",
             "linecolor": "white",
             "minorgridcolor": "white",
             "startlinecolor": "#2a3f5f"
            },
            "baxis": {
             "endlinecolor": "#2a3f5f",
             "gridcolor": "white",
             "linecolor": "white",
             "minorgridcolor": "white",
             "startlinecolor": "#2a3f5f"
            },
            "type": "carpet"
           }
          ],
          "choropleth": [
           {
            "colorbar": {
             "outlinewidth": 0,
             "ticks": ""
            },
            "type": "choropleth"
           }
          ],
          "contour": [
           {
            "colorbar": {
             "outlinewidth": 0,
             "ticks": ""
            },
            "colorscale": [
             [
              0,
              "#0d0887"
             ],
             [
              0.1111111111111111,
              "#46039f"
             ],
             [
              0.2222222222222222,
              "#7201a8"
             ],
             [
              0.3333333333333333,
              "#9c179e"
             ],
             [
              0.4444444444444444,
              "#bd3786"
             ],
             [
              0.5555555555555556,
              "#d8576b"
             ],
             [
              0.6666666666666666,
              "#ed7953"
             ],
             [
              0.7777777777777778,
              "#fb9f3a"
             ],
             [
              0.8888888888888888,
              "#fdca26"
             ],
             [
              1,
              "#f0f921"
             ]
            ],
            "type": "contour"
           }
          ],
          "contourcarpet": [
           {
            "colorbar": {
             "outlinewidth": 0,
             "ticks": ""
            },
            "type": "contourcarpet"
           }
          ],
          "heatmap": [
           {
            "colorbar": {
             "outlinewidth": 0,
             "ticks": ""
            },
            "colorscale": [
             [
              0,
              "#0d0887"
             ],
             [
              0.1111111111111111,
              "#46039f"
             ],
             [
              0.2222222222222222,
              "#7201a8"
             ],
             [
              0.3333333333333333,
              "#9c179e"
             ],
             [
              0.4444444444444444,
              "#bd3786"
             ],
             [
              0.5555555555555556,
              "#d8576b"
             ],
             [
              0.6666666666666666,
              "#ed7953"
             ],
             [
              0.7777777777777778,
              "#fb9f3a"
             ],
             [
              0.8888888888888888,
              "#fdca26"
             ],
             [
              1,
              "#f0f921"
             ]
            ],
            "type": "heatmap"
           }
          ],
          "histogram": [
           {
            "marker": {
             "pattern": {
              "fillmode": "overlay",
              "size": 10,
              "solidity": 0.2
             }
            },
            "type": "histogram"
           }
          ],
          "histogram2d": [
           {
            "colorbar": {
             "outlinewidth": 0,
             "ticks": ""
            },
            "colorscale": [
             [
              0,
              "#0d0887"
             ],
             [
              0.1111111111111111,
              "#46039f"
             ],
             [
              0.2222222222222222,
              "#7201a8"
             ],
             [
              0.3333333333333333,
              "#9c179e"
             ],
             [
              0.4444444444444444,
              "#bd3786"
             ],
             [
              0.5555555555555556,
              "#d8576b"
             ],
             [
              0.6666666666666666,
              "#ed7953"
             ],
             [
              0.7777777777777778,
              "#fb9f3a"
             ],
             [
              0.8888888888888888,
              "#fdca26"
             ],
             [
              1,
              "#f0f921"
             ]
            ],
            "type": "histogram2d"
           }
          ],
          "histogram2dcontour": [
           {
            "colorbar": {
             "outlinewidth": 0,
             "ticks": ""
            },
            "colorscale": [
             [
              0,
              "#0d0887"
             ],
             [
              0.1111111111111111,
              "#46039f"
             ],
             [
              0.2222222222222222,
              "#7201a8"
             ],
             [
              0.3333333333333333,
              "#9c179e"
             ],
             [
              0.4444444444444444,
              "#bd3786"
             ],
             [
              0.5555555555555556,
              "#d8576b"
             ],
             [
              0.6666666666666666,
              "#ed7953"
             ],
             [
              0.7777777777777778,
              "#fb9f3a"
             ],
             [
              0.8888888888888888,
              "#fdca26"
             ],
             [
              1,
              "#f0f921"
             ]
            ],
            "type": "histogram2dcontour"
           }
          ],
          "mesh3d": [
           {
            "colorbar": {
             "outlinewidth": 0,
             "ticks": ""
            },
            "type": "mesh3d"
           }
          ],
          "parcoords": [
           {
            "line": {
             "colorbar": {
              "outlinewidth": 0,
              "ticks": ""
             }
            },
            "type": "parcoords"
           }
          ],
          "pie": [
           {
            "automargin": true,
            "type": "pie"
           }
          ],
          "scatter": [
           {
            "fillpattern": {
             "fillmode": "overlay",
             "size": 10,
             "solidity": 0.2
            },
            "type": "scatter"
           }
          ],
          "scatter3d": [
           {
            "line": {
             "colorbar": {
              "outlinewidth": 0,
              "ticks": ""
             }
            },
            "marker": {
             "colorbar": {
              "outlinewidth": 0,
              "ticks": ""
             }
            },
            "type": "scatter3d"
           }
          ],
          "scattercarpet": [
           {
            "marker": {
             "colorbar": {
              "outlinewidth": 0,
              "ticks": ""
             }
            },
            "type": "scattercarpet"
           }
          ],
          "scattergeo": [
           {
            "marker": {
             "colorbar": {
              "outlinewidth": 0,
              "ticks": ""
             }
            },
            "type": "scattergeo"
           }
          ],
          "scattergl": [
           {
            "marker": {
             "colorbar": {
              "outlinewidth": 0,
              "ticks": ""
             }
            },
            "type": "scattergl"
           }
          ],
          "scattermap": [
           {
            "marker": {
             "colorbar": {
              "outlinewidth": 0,
              "ticks": ""
             }
            },
            "type": "scattermap"
           }
          ],
          "scattermapbox": [
           {
            "marker": {
             "colorbar": {
              "outlinewidth": 0,
              "ticks": ""
             }
            },
            "type": "scattermapbox"
           }
          ],
          "scatterpolar": [
           {
            "marker": {
             "colorbar": {
              "outlinewidth": 0,
              "ticks": ""
             }
            },
            "type": "scatterpolar"
           }
          ],
          "scatterpolargl": [
           {
            "marker": {
             "colorbar": {
              "outlinewidth": 0,
              "ticks": ""
             }
            },
            "type": "scatterpolargl"
           }
          ],
          "scatterternary": [
           {
            "marker": {
             "colorbar": {
              "outlinewidth": 0,
              "ticks": ""
             }
            },
            "type": "scatterternary"
           }
          ],
          "surface": [
           {
            "colorbar": {
             "outlinewidth": 0,
             "ticks": ""
            },
            "colorscale": [
             [
              0,
              "#0d0887"
             ],
             [
              0.1111111111111111,
              "#46039f"
             ],
             [
              0.2222222222222222,
              "#7201a8"
             ],
             [
              0.3333333333333333,
              "#9c179e"
             ],
             [
              0.4444444444444444,
              "#bd3786"
             ],
             [
              0.5555555555555556,
              "#d8576b"
             ],
             [
              0.6666666666666666,
              "#ed7953"
             ],
             [
              0.7777777777777778,
              "#fb9f3a"
             ],
             [
              0.8888888888888888,
              "#fdca26"
             ],
             [
              1,
              "#f0f921"
             ]
            ],
            "type": "surface"
           }
          ],
          "table": [
           {
            "cells": {
             "fill": {
              "color": "#EBF0F8"
             },
             "line": {
              "color": "white"
             }
            },
            "header": {
             "fill": {
              "color": "#C8D4E3"
             },
             "line": {
              "color": "white"
             }
            },
            "type": "table"
           }
          ]
         },
         "layout": {
          "annotationdefaults": {
           "arrowcolor": "#2a3f5f",
           "arrowhead": 0,
           "arrowwidth": 1
          },
          "autotypenumbers": "strict",
          "coloraxis": {
           "colorbar": {
            "outlinewidth": 0,
            "ticks": ""
           }
          },
          "colorscale": {
           "diverging": [
            [
             0,
             "#8e0152"
            ],
            [
             0.1,
             "#c51b7d"
            ],
            [
             0.2,
             "#de77ae"
            ],
            [
             0.3,
             "#f1b6da"
            ],
            [
             0.4,
             "#fde0ef"
            ],
            [
             0.5,
             "#f7f7f7"
            ],
            [
             0.6,
             "#e6f5d0"
            ],
            [
             0.7,
             "#b8e186"
            ],
            [
             0.8,
             "#7fbc41"
            ],
            [
             0.9,
             "#4d9221"
            ],
            [
             1,
             "#276419"
            ]
           ],
           "sequential": [
            [
             0,
             "#0d0887"
            ],
            [
             0.1111111111111111,
             "#46039f"
            ],
            [
             0.2222222222222222,
             "#7201a8"
            ],
            [
             0.3333333333333333,
             "#9c179e"
            ],
            [
             0.4444444444444444,
             "#bd3786"
            ],
            [
             0.5555555555555556,
             "#d8576b"
            ],
            [
             0.6666666666666666,
             "#ed7953"
            ],
            [
             0.7777777777777778,
             "#fb9f3a"
            ],
            [
             0.8888888888888888,
             "#fdca26"
            ],
            [
             1,
             "#f0f921"
            ]
           ],
           "sequentialminus": [
            [
             0,
             "#0d0887"
            ],
            [
             0.1111111111111111,
             "#46039f"
            ],
            [
             0.2222222222222222,
             "#7201a8"
            ],
            [
             0.3333333333333333,
             "#9c179e"
            ],
            [
             0.4444444444444444,
             "#bd3786"
            ],
            [
             0.5555555555555556,
             "#d8576b"
            ],
            [
             0.6666666666666666,
             "#ed7953"
            ],
            [
             0.7777777777777778,
             "#fb9f3a"
            ],
            [
             0.8888888888888888,
             "#fdca26"
            ],
            [
             1,
             "#f0f921"
            ]
           ]
          },
          "colorway": [
           "#636efa",
           "#EF553B",
           "#00cc96",
           "#ab63fa",
           "#FFA15A",
           "#19d3f3",
           "#FF6692",
           "#B6E880",
           "#FF97FF",
           "#FECB52"
          ],
          "font": {
           "color": "#2a3f5f"
          },
          "geo": {
           "bgcolor": "white",
           "lakecolor": "white",
           "landcolor": "#E5ECF6",
           "showlakes": true,
           "showland": true,
           "subunitcolor": "white"
          },
          "hoverlabel": {
           "align": "left"
          },
          "hovermode": "closest",
          "mapbox": {
           "style": "light"
          },
          "paper_bgcolor": "white",
          "plot_bgcolor": "#E5ECF6",
          "polar": {
           "angularaxis": {
            "gridcolor": "white",
            "linecolor": "white",
            "ticks": ""
           },
           "bgcolor": "#E5ECF6",
           "radialaxis": {
            "gridcolor": "white",
            "linecolor": "white",
            "ticks": ""
           }
          },
          "scene": {
           "xaxis": {
            "backgroundcolor": "#E5ECF6",
            "gridcolor": "white",
            "gridwidth": 2,
            "linecolor": "white",
            "showbackground": true,
            "ticks": "",
            "zerolinecolor": "white"
           },
           "yaxis": {
            "backgroundcolor": "#E5ECF6",
            "gridcolor": "white",
            "gridwidth": 2,
            "linecolor": "white",
            "showbackground": true,
            "ticks": "",
            "zerolinecolor": "white"
           },
           "zaxis": {
            "backgroundcolor": "#E5ECF6",
            "gridcolor": "white",
            "gridwidth": 2,
            "linecolor": "white",
            "showbackground": true,
            "ticks": "",
            "zerolinecolor": "white"
           }
          },
          "shapedefaults": {
           "line": {
            "color": "#2a3f5f"
           }
          },
          "ternary": {
           "aaxis": {
            "gridcolor": "white",
            "linecolor": "white",
            "ticks": ""
           },
           "baxis": {
            "gridcolor": "white",
            "linecolor": "white",
            "ticks": ""
           },
           "bgcolor": "#E5ECF6",
           "caxis": {
            "gridcolor": "white",
            "linecolor": "white",
            "ticks": ""
           }
          },
          "title": {
           "x": 0.05
          },
          "xaxis": {
           "automargin": true,
           "gridcolor": "white",
           "linecolor": "white",
           "ticks": "",
           "title": {
            "standoff": 15
           },
           "zerolinecolor": "white",
           "zerolinewidth": 2
          },
          "yaxis": {
           "automargin": true,
           "gridcolor": "white",
           "linecolor": "white",
           "ticks": "",
           "title": {
            "standoff": 15
           },
           "zerolinecolor": "white",
           "zerolinewidth": 2
          }
         }
        }
       }
      },
      "text/html": [
       "<div>                        <script type=\"text/javascript\">window.PlotlyConfig = {MathJaxConfig: 'local'};</script>\n",
       "        <script charset=\"utf-8\" src=\"https://cdn.plot.ly/plotly-3.0.1.min.js\"></script>                <div id=\"87f420b0-dced-43ef-924d-ba64fd557588\" class=\"plotly-graph-div\" style=\"height:100%; width:100%;\"></div>            <script type=\"text/javascript\">                window.PLOTLYENV=window.PLOTLYENV || {};                                if (document.getElementById(\"87f420b0-dced-43ef-924d-ba64fd557588\")) {                    Plotly.newPlot(                        \"87f420b0-dced-43ef-924d-ba64fd557588\",                        [{\"hoverinfo\":\"none\",\"marker\":{\"color\":[\"#2E5EAA\",\"#CF3721\"],\"line\":{\"color\":\"white\",\"width\":1}},\"orientation\":\"h\",\"text\":[\"65%\",\"35%\"],\"textfont\":{\"color\":\"#333333\",\"family\":\"Arial\",\"size\":15},\"textposition\":\"outside\",\"x\":{\"dtype\":\"i1\",\"bdata\":\"QSM=\"},\"y\":[\"Ja\",\"Nein\"],\"type\":\"bar\"}],                        {\"template\":{\"data\":{\"histogram2dcontour\":[{\"type\":\"histogram2dcontour\",\"colorbar\":{\"outlinewidth\":0,\"ticks\":\"\"},\"colorscale\":[[0.0,\"#0d0887\"],[0.1111111111111111,\"#46039f\"],[0.2222222222222222,\"#7201a8\"],[0.3333333333333333,\"#9c179e\"],[0.4444444444444444,\"#bd3786\"],[0.5555555555555556,\"#d8576b\"],[0.6666666666666666,\"#ed7953\"],[0.7777777777777778,\"#fb9f3a\"],[0.8888888888888888,\"#fdca26\"],[1.0,\"#f0f921\"]]}],\"choropleth\":[{\"type\":\"choropleth\",\"colorbar\":{\"outlinewidth\":0,\"ticks\":\"\"}}],\"histogram2d\":[{\"type\":\"histogram2d\",\"colorbar\":{\"outlinewidth\":0,\"ticks\":\"\"},\"colorscale\":[[0.0,\"#0d0887\"],[0.1111111111111111,\"#46039f\"],[0.2222222222222222,\"#7201a8\"],[0.3333333333333333,\"#9c179e\"],[0.4444444444444444,\"#bd3786\"],[0.5555555555555556,\"#d8576b\"],[0.6666666666666666,\"#ed7953\"],[0.7777777777777778,\"#fb9f3a\"],[0.8888888888888888,\"#fdca26\"],[1.0,\"#f0f921\"]]}],\"heatmap\":[{\"type\":\"heatmap\",\"colorbar\":{\"outlinewidth\":0,\"ticks\":\"\"},\"colorscale\":[[0.0,\"#0d0887\"],[0.1111111111111111,\"#46039f\"],[0.2222222222222222,\"#7201a8\"],[0.3333333333333333,\"#9c179e\"],[0.4444444444444444,\"#bd3786\"],[0.5555555555555556,\"#d8576b\"],[0.6666666666666666,\"#ed7953\"],[0.7777777777777778,\"#fb9f3a\"],[0.8888888888888888,\"#fdca26\"],[1.0,\"#f0f921\"]]}],\"contourcarpet\":[{\"type\":\"contourcarpet\",\"colorbar\":{\"outlinewidth\":0,\"ticks\":\"\"}}],\"contour\":[{\"type\":\"contour\",\"colorbar\":{\"outlinewidth\":0,\"ticks\":\"\"},\"colorscale\":[[0.0,\"#0d0887\"],[0.1111111111111111,\"#46039f\"],[0.2222222222222222,\"#7201a8\"],[0.3333333333333333,\"#9c179e\"],[0.4444444444444444,\"#bd3786\"],[0.5555555555555556,\"#d8576b\"],[0.6666666666666666,\"#ed7953\"],[0.7777777777777778,\"#fb9f3a\"],[0.8888888888888888,\"#fdca26\"],[1.0,\"#f0f921\"]]}],\"surface\":[{\"type\":\"surface\",\"colorbar\":{\"outlinewidth\":0,\"ticks\":\"\"},\"colorscale\":[[0.0,\"#0d0887\"],[0.1111111111111111,\"#46039f\"],[0.2222222222222222,\"#7201a8\"],[0.3333333333333333,\"#9c179e\"],[0.4444444444444444,\"#bd3786\"],[0.5555555555555556,\"#d8576b\"],[0.6666666666666666,\"#ed7953\"],[0.7777777777777778,\"#fb9f3a\"],[0.8888888888888888,\"#fdca26\"],[1.0,\"#f0f921\"]]}],\"mesh3d\":[{\"type\":\"mesh3d\",\"colorbar\":{\"outlinewidth\":0,\"ticks\":\"\"}}],\"scatter\":[{\"fillpattern\":{\"fillmode\":\"overlay\",\"size\":10,\"solidity\":0.2},\"type\":\"scatter\"}],\"parcoords\":[{\"type\":\"parcoords\",\"line\":{\"colorbar\":{\"outlinewidth\":0,\"ticks\":\"\"}}}],\"scatterpolargl\":[{\"type\":\"scatterpolargl\",\"marker\":{\"colorbar\":{\"outlinewidth\":0,\"ticks\":\"\"}}}],\"bar\":[{\"error_x\":{\"color\":\"#2a3f5f\"},\"error_y\":{\"color\":\"#2a3f5f\"},\"marker\":{\"line\":{\"color\":\"#E5ECF6\",\"width\":0.5},\"pattern\":{\"fillmode\":\"overlay\",\"size\":10,\"solidity\":0.2}},\"type\":\"bar\"}],\"scattergeo\":[{\"type\":\"scattergeo\",\"marker\":{\"colorbar\":{\"outlinewidth\":0,\"ticks\":\"\"}}}],\"scatterpolar\":[{\"type\":\"scatterpolar\",\"marker\":{\"colorbar\":{\"outlinewidth\":0,\"ticks\":\"\"}}}],\"histogram\":[{\"marker\":{\"pattern\":{\"fillmode\":\"overlay\",\"size\":10,\"solidity\":0.2}},\"type\":\"histogram\"}],\"scattergl\":[{\"type\":\"scattergl\",\"marker\":{\"colorbar\":{\"outlinewidth\":0,\"ticks\":\"\"}}}],\"scatter3d\":[{\"type\":\"scatter3d\",\"line\":{\"colorbar\":{\"outlinewidth\":0,\"ticks\":\"\"}},\"marker\":{\"colorbar\":{\"outlinewidth\":0,\"ticks\":\"\"}}}],\"scattermap\":[{\"type\":\"scattermap\",\"marker\":{\"colorbar\":{\"outlinewidth\":0,\"ticks\":\"\"}}}],\"scattermapbox\":[{\"type\":\"scattermapbox\",\"marker\":{\"colorbar\":{\"outlinewidth\":0,\"ticks\":\"\"}}}],\"scatterternary\":[{\"type\":\"scatterternary\",\"marker\":{\"colorbar\":{\"outlinewidth\":0,\"ticks\":\"\"}}}],\"scattercarpet\":[{\"type\":\"scattercarpet\",\"marker\":{\"colorbar\":{\"outlinewidth\":0,\"ticks\":\"\"}}}],\"carpet\":[{\"aaxis\":{\"endlinecolor\":\"#2a3f5f\",\"gridcolor\":\"white\",\"linecolor\":\"white\",\"minorgridcolor\":\"white\",\"startlinecolor\":\"#2a3f5f\"},\"baxis\":{\"endlinecolor\":\"#2a3f5f\",\"gridcolor\":\"white\",\"linecolor\":\"white\",\"minorgridcolor\":\"white\",\"startlinecolor\":\"#2a3f5f\"},\"type\":\"carpet\"}],\"table\":[{\"cells\":{\"fill\":{\"color\":\"#EBF0F8\"},\"line\":{\"color\":\"white\"}},\"header\":{\"fill\":{\"color\":\"#C8D4E3\"},\"line\":{\"color\":\"white\"}},\"type\":\"table\"}],\"barpolar\":[{\"marker\":{\"line\":{\"color\":\"#E5ECF6\",\"width\":0.5},\"pattern\":{\"fillmode\":\"overlay\",\"size\":10,\"solidity\":0.2}},\"type\":\"barpolar\"}],\"pie\":[{\"automargin\":true,\"type\":\"pie\"}]},\"layout\":{\"autotypenumbers\":\"strict\",\"colorway\":[\"#636efa\",\"#EF553B\",\"#00cc96\",\"#ab63fa\",\"#FFA15A\",\"#19d3f3\",\"#FF6692\",\"#B6E880\",\"#FF97FF\",\"#FECB52\"],\"font\":{\"color\":\"#2a3f5f\"},\"hovermode\":\"closest\",\"hoverlabel\":{\"align\":\"left\"},\"paper_bgcolor\":\"white\",\"plot_bgcolor\":\"#E5ECF6\",\"polar\":{\"bgcolor\":\"#E5ECF6\",\"angularaxis\":{\"gridcolor\":\"white\",\"linecolor\":\"white\",\"ticks\":\"\"},\"radialaxis\":{\"gridcolor\":\"white\",\"linecolor\":\"white\",\"ticks\":\"\"}},\"ternary\":{\"bgcolor\":\"#E5ECF6\",\"aaxis\":{\"gridcolor\":\"white\",\"linecolor\":\"white\",\"ticks\":\"\"},\"baxis\":{\"gridcolor\":\"white\",\"linecolor\":\"white\",\"ticks\":\"\"},\"caxis\":{\"gridcolor\":\"white\",\"linecolor\":\"white\",\"ticks\":\"\"}},\"coloraxis\":{\"colorbar\":{\"outlinewidth\":0,\"ticks\":\"\"}},\"colorscale\":{\"sequential\":[[0.0,\"#0d0887\"],[0.1111111111111111,\"#46039f\"],[0.2222222222222222,\"#7201a8\"],[0.3333333333333333,\"#9c179e\"],[0.4444444444444444,\"#bd3786\"],[0.5555555555555556,\"#d8576b\"],[0.6666666666666666,\"#ed7953\"],[0.7777777777777778,\"#fb9f3a\"],[0.8888888888888888,\"#fdca26\"],[1.0,\"#f0f921\"]],\"sequentialminus\":[[0.0,\"#0d0887\"],[0.1111111111111111,\"#46039f\"],[0.2222222222222222,\"#7201a8\"],[0.3333333333333333,\"#9c179e\"],[0.4444444444444444,\"#bd3786\"],[0.5555555555555556,\"#d8576b\"],[0.6666666666666666,\"#ed7953\"],[0.7777777777777778,\"#fb9f3a\"],[0.8888888888888888,\"#fdca26\"],[1.0,\"#f0f921\"]],\"diverging\":[[0,\"#8e0152\"],[0.1,\"#c51b7d\"],[0.2,\"#de77ae\"],[0.3,\"#f1b6da\"],[0.4,\"#fde0ef\"],[0.5,\"#f7f7f7\"],[0.6,\"#e6f5d0\"],[0.7,\"#b8e186\"],[0.8,\"#7fbc41\"],[0.9,\"#4d9221\"],[1,\"#276419\"]]},\"xaxis\":{\"gridcolor\":\"white\",\"linecolor\":\"white\",\"ticks\":\"\",\"title\":{\"standoff\":15},\"zerolinecolor\":\"white\",\"automargin\":true,\"zerolinewidth\":2},\"yaxis\":{\"gridcolor\":\"white\",\"linecolor\":\"white\",\"ticks\":\"\",\"title\":{\"standoff\":15},\"zerolinecolor\":\"white\",\"automargin\":true,\"zerolinewidth\":2},\"scene\":{\"xaxis\":{\"backgroundcolor\":\"#E5ECF6\",\"gridcolor\":\"white\",\"linecolor\":\"white\",\"showbackground\":true,\"ticks\":\"\",\"zerolinecolor\":\"white\",\"gridwidth\":2},\"yaxis\":{\"backgroundcolor\":\"#E5ECF6\",\"gridcolor\":\"white\",\"linecolor\":\"white\",\"showbackground\":true,\"ticks\":\"\",\"zerolinecolor\":\"white\",\"gridwidth\":2},\"zaxis\":{\"backgroundcolor\":\"#E5ECF6\",\"gridcolor\":\"white\",\"linecolor\":\"white\",\"showbackground\":true,\"ticks\":\"\",\"zerolinecolor\":\"white\",\"gridwidth\":2}},\"shapedefaults\":{\"line\":{\"color\":\"#2a3f5f\"}},\"annotationdefaults\":{\"arrowcolor\":\"#2a3f5f\",\"arrowhead\":0,\"arrowwidth\":1},\"geo\":{\"bgcolor\":\"white\",\"landcolor\":\"#E5ECF6\",\"subunitcolor\":\"white\",\"showland\":true,\"showlakes\":true,\"lakecolor\":\"white\"},\"title\":{\"x\":0.05},\"mapbox\":{\"style\":\"light\"}}}},                        {\"responsive\": true}                    )                };            </script>        </div>"
      ],
      "text/plain": [
       "Figure({\n",
       "    'data': [{'hoverinfo': 'none',\n",
       "              'marker': {'color': ['#2E5EAA', '#CF3721'], 'line': {'color': 'white', 'width': 1}},\n",
       "              'orientation': 'h',\n",
       "              'text': array(['65%', '35%'], dtype=object),\n",
       "              'textfont': {'color': '#333333', 'family': 'Arial', 'size': 15},\n",
       "              'textposition': 'outside',\n",
       "              'type': 'bar',\n",
       "              'x': {'bdata': 'QSM=', 'dtype': 'i1'},\n",
       "              'y': array(['Ja', 'Nein'], dtype=object)}],\n",
       "    'layout': {'template': '...'}\n",
       "})"
      ]
     },
     "execution_count": 7,
     "metadata": {},
     "output_type": "execute_result"
    }
   ],
   "source": [
    "import plotly.graph_objects as go\n",
    "# Diagramm erstellen\n",
    "fig = go.Figure()\n",
    "# Daten\n",
    "df = pd.DataFrame({\n",
    "    'Antwort': ['Ja', 'Nein'],\n",
    "    'Prozent': [65, 35]\n",
    "})\n",
    "\n",
    "# Redaktions-Farbpalette (Beispiel)\n",
    "colors = ['#2E5EAA', '#CF3721']\n",
    "bg_color = '#F9F9F9'\n",
    "text_color = '#333333'\n",
    "grid_color = '#E0E0E0'\n",
    "# Balken hinzufügen\n",
    "fig.add_trace(go.Bar(\n",
    "    y=df['Antwort'],\n",
    "    x=df['Prozent'],\n",
    "    orientation='h',\n",
    "    text=df['Prozent'].apply(lambda x: f\"{x}%\"),\n",
    "    textposition='outside',\n",
    "    textfont=dict(\n",
    "        family='Arial',\n",
    "        size=15,\n",
    "        color=text_color\n",
    "    ),\n",
    "    marker=dict(\n",
    "        color=colors,\n",
    "        line=dict(\n",
    "            color='white',\n",
    "            width=1\n",
    "        )\n",
    "    ),\n",
    "    hoverinfo='none'\n",
    "))\n"
   ]
  },
  {
   "cell_type": "code",
   "execution_count": null,
   "metadata": {},
   "outputs": [],
   "source": [
    "import plotly.graph_objects as go\n",
    "import pandas as pd\n",
    "\n",
    "# Daten\n",
    "df = pd.DataFrame({\n",
    "    'Antwort': ['Ja', 'Nein'],\n",
    "    'Prozent': [65, 35]\n",
    "})\n",
    "\n",
    "# Redaktions-Farbpalette (Beispiel)\n",
    "colors = ['#2E5EAA', '#CF3721']\n",
    "bg_color = '#F9F9F9'\n",
    "text_color = '#333333'\n",
    "grid_color = '#E0E0E0'\n",
    "\n",
    "# Diagramm erstellen\n",
    "fig = go.Figure()\n",
    "\n",
    "# Balken hinzufügen\n",
    "fig.add_trace(go.Bar(\n",
    "    y=df['Antwort'],\n",
    "    x=df['Prozent'],\n",
    "    orientation='h',\n",
    "    text=df['Prozent'].apply(lambda x: f\"{x}%\"),\n",
    "    textposition='outside',\n",
    "    textfont=dict(\n",
    "        family='Arial',\n",
    "        size=15,\n",
    "        color=text_color\n",
    "    ),\n",
    "    marker=dict(\n",
    "        color=colors,\n",
    "        line=dict(\n",
    "            color='white',\n",
    "            width=1\n",
    "        )\n",
    "    ),\n",
    "    hoverinfo='none'\n",
    "))\n",
    "\n",
    "# Design anpassen\n",
    "fig.update_layout(\n",
    "    title={\n",
    "        'text': 'Umfrage: Sind Sie mit der aktuellen Politik zufrieden?',\n",
    "        'font': {'size': 22, 'family': 'Arial, sans-serif', 'color': text_color},\n",
    "        'y': 0.95,\n",
    "        'x': 0.01,\n",
    "        'xanchor': 'left'\n",
    "    },\n",
    "    font={'family': 'Arial, sans-serif', 'size': 14, 'color': text_color},\n",
    "    margin={'l': 20, 'r': 70, 't': 80, 'b': 20},\n",
    "    plot_bgcolor=bg_color,\n",
    "    paper_bgcolor=bg_color,\n",
    "    height=400,\n",
    "    width=800,\n",
    "    xaxis={\n",
    "        'showgrid': True,\n",
    "        'gridcolor': grid_color,\n",
    "        'range': [0, max(df['Prozent'])*1.2],\n",
    "        'showticklabels': False\n",
    "    },\n",
    "    yaxis={\n",
    "        'showgrid': False,\n",
    "        'tickfont': {'size': 16}\n",
    "    }\n",
    ")\n",
    "\n",
    "# Quelle/Annotation\n",
    "fig.add_annotation(\n",
    "    text=\"Quelle: Redaktionsumfrage, April 2025, n=523\",\n",
    "    xref=\"paper\", yref=\"paper\",\n",
    "    x=0.01, y=-0.1,\n",
    "    showarrow=False,\n",
    "    font=dict(\n",
    "        family=\"Arial\",\n",
    "        size=12,\n",
    "        color=\"#666666\"\n",
    "    )\n",
    ")\n",
    "\n",
    "# Als hochauflösendes PNG speichern\n",
    "fig.write_image(\"publikationsreife_umfrage.png\", scale=3)"
   ]
  },
  {
   "cell_type": "code",
   "execution_count": 5,
   "metadata": {},
   "outputs": [],
   "source": [
    "import plotly.graph_objects as go\n",
    "fig = go.Figure(go.Bar(y=[2, 1, 3]))\n"
   ]
  },
  {
   "cell_type": "code",
   "execution_count": 7,
   "metadata": {},
   "outputs": [
    {
     "data": {
      "application/vnd.plotly.v1+json": {
       "config": {
        "plotlyServerURL": "https://plot.ly"
       },
       "data": [
        {
         "type": "bar",
         "y": [
          2,
          1,
          3
         ]
        }
       ],
       "layout": {
        "template": {
         "data": {
          "bar": [
           {
            "error_x": {
             "color": "#2a3f5f"
            },
            "error_y": {
             "color": "#2a3f5f"
            },
            "marker": {
             "line": {
              "color": "#E5ECF6",
              "width": 0.5
             },
             "pattern": {
              "fillmode": "overlay",
              "size": 10,
              "solidity": 0.2
             }
            },
            "type": "bar"
           }
          ],
          "barpolar": [
           {
            "marker": {
             "line": {
              "color": "#E5ECF6",
              "width": 0.5
             },
             "pattern": {
              "fillmode": "overlay",
              "size": 10,
              "solidity": 0.2
             }
            },
            "type": "barpolar"
           }
          ],
          "carpet": [
           {
            "aaxis": {
             "endlinecolor": "#2a3f5f",
             "gridcolor": "white",
             "linecolor": "white",
             "minorgridcolor": "white",
             "startlinecolor": "#2a3f5f"
            },
            "baxis": {
             "endlinecolor": "#2a3f5f",
             "gridcolor": "white",
             "linecolor": "white",
             "minorgridcolor": "white",
             "startlinecolor": "#2a3f5f"
            },
            "type": "carpet"
           }
          ],
          "choropleth": [
           {
            "colorbar": {
             "outlinewidth": 0,
             "ticks": ""
            },
            "type": "choropleth"
           }
          ],
          "contour": [
           {
            "colorbar": {
             "outlinewidth": 0,
             "ticks": ""
            },
            "colorscale": [
             [
              0,
              "#0d0887"
             ],
             [
              0.1111111111111111,
              "#46039f"
             ],
             [
              0.2222222222222222,
              "#7201a8"
             ],
             [
              0.3333333333333333,
              "#9c179e"
             ],
             [
              0.4444444444444444,
              "#bd3786"
             ],
             [
              0.5555555555555556,
              "#d8576b"
             ],
             [
              0.6666666666666666,
              "#ed7953"
             ],
             [
              0.7777777777777778,
              "#fb9f3a"
             ],
             [
              0.8888888888888888,
              "#fdca26"
             ],
             [
              1,
              "#f0f921"
             ]
            ],
            "type": "contour"
           }
          ],
          "contourcarpet": [
           {
            "colorbar": {
             "outlinewidth": 0,
             "ticks": ""
            },
            "type": "contourcarpet"
           }
          ],
          "heatmap": [
           {
            "colorbar": {
             "outlinewidth": 0,
             "ticks": ""
            },
            "colorscale": [
             [
              0,
              "#0d0887"
             ],
             [
              0.1111111111111111,
              "#46039f"
             ],
             [
              0.2222222222222222,
              "#7201a8"
             ],
             [
              0.3333333333333333,
              "#9c179e"
             ],
             [
              0.4444444444444444,
              "#bd3786"
             ],
             [
              0.5555555555555556,
              "#d8576b"
             ],
             [
              0.6666666666666666,
              "#ed7953"
             ],
             [
              0.7777777777777778,
              "#fb9f3a"
             ],
             [
              0.8888888888888888,
              "#fdca26"
             ],
             [
              1,
              "#f0f921"
             ]
            ],
            "type": "heatmap"
           }
          ],
          "histogram": [
           {
            "marker": {
             "pattern": {
              "fillmode": "overlay",
              "size": 10,
              "solidity": 0.2
             }
            },
            "type": "histogram"
           }
          ],
          "histogram2d": [
           {
            "colorbar": {
             "outlinewidth": 0,
             "ticks": ""
            },
            "colorscale": [
             [
              0,
              "#0d0887"
             ],
             [
              0.1111111111111111,
              "#46039f"
             ],
             [
              0.2222222222222222,
              "#7201a8"
             ],
             [
              0.3333333333333333,
              "#9c179e"
             ],
             [
              0.4444444444444444,
              "#bd3786"
             ],
             [
              0.5555555555555556,
              "#d8576b"
             ],
             [
              0.6666666666666666,
              "#ed7953"
             ],
             [
              0.7777777777777778,
              "#fb9f3a"
             ],
             [
              0.8888888888888888,
              "#fdca26"
             ],
             [
              1,
              "#f0f921"
             ]
            ],
            "type": "histogram2d"
           }
          ],
          "histogram2dcontour": [
           {
            "colorbar": {
             "outlinewidth": 0,
             "ticks": ""
            },
            "colorscale": [
             [
              0,
              "#0d0887"
             ],
             [
              0.1111111111111111,
              "#46039f"
             ],
             [
              0.2222222222222222,
              "#7201a8"
             ],
             [
              0.3333333333333333,
              "#9c179e"
             ],
             [
              0.4444444444444444,
              "#bd3786"
             ],
             [
              0.5555555555555556,
              "#d8576b"
             ],
             [
              0.6666666666666666,
              "#ed7953"
             ],
             [
              0.7777777777777778,
              "#fb9f3a"
             ],
             [
              0.8888888888888888,
              "#fdca26"
             ],
             [
              1,
              "#f0f921"
             ]
            ],
            "type": "histogram2dcontour"
           }
          ],
          "mesh3d": [
           {
            "colorbar": {
             "outlinewidth": 0,
             "ticks": ""
            },
            "type": "mesh3d"
           }
          ],
          "parcoords": [
           {
            "line": {
             "colorbar": {
              "outlinewidth": 0,
              "ticks": ""
             }
            },
            "type": "parcoords"
           }
          ],
          "pie": [
           {
            "automargin": true,
            "type": "pie"
           }
          ],
          "scatter": [
           {
            "fillpattern": {
             "fillmode": "overlay",
             "size": 10,
             "solidity": 0.2
            },
            "type": "scatter"
           }
          ],
          "scatter3d": [
           {
            "line": {
             "colorbar": {
              "outlinewidth": 0,
              "ticks": ""
             }
            },
            "marker": {
             "colorbar": {
              "outlinewidth": 0,
              "ticks": ""
             }
            },
            "type": "scatter3d"
           }
          ],
          "scattercarpet": [
           {
            "marker": {
             "colorbar": {
              "outlinewidth": 0,
              "ticks": ""
             }
            },
            "type": "scattercarpet"
           }
          ],
          "scattergeo": [
           {
            "marker": {
             "colorbar": {
              "outlinewidth": 0,
              "ticks": ""
             }
            },
            "type": "scattergeo"
           }
          ],
          "scattergl": [
           {
            "marker": {
             "colorbar": {
              "outlinewidth": 0,
              "ticks": ""
             }
            },
            "type": "scattergl"
           }
          ],
          "scattermap": [
           {
            "marker": {
             "colorbar": {
              "outlinewidth": 0,
              "ticks": ""
             }
            },
            "type": "scattermap"
           }
          ],
          "scattermapbox": [
           {
            "marker": {
             "colorbar": {
              "outlinewidth": 0,
              "ticks": ""
             }
            },
            "type": "scattermapbox"
           }
          ],
          "scatterpolar": [
           {
            "marker": {
             "colorbar": {
              "outlinewidth": 0,
              "ticks": ""
             }
            },
            "type": "scatterpolar"
           }
          ],
          "scatterpolargl": [
           {
            "marker": {
             "colorbar": {
              "outlinewidth": 0,
              "ticks": ""
             }
            },
            "type": "scatterpolargl"
           }
          ],
          "scatterternary": [
           {
            "marker": {
             "colorbar": {
              "outlinewidth": 0,
              "ticks": ""
             }
            },
            "type": "scatterternary"
           }
          ],
          "surface": [
           {
            "colorbar": {
             "outlinewidth": 0,
             "ticks": ""
            },
            "colorscale": [
             [
              0,
              "#0d0887"
             ],
             [
              0.1111111111111111,
              "#46039f"
             ],
             [
              0.2222222222222222,
              "#7201a8"
             ],
             [
              0.3333333333333333,
              "#9c179e"
             ],
             [
              0.4444444444444444,
              "#bd3786"
             ],
             [
              0.5555555555555556,
              "#d8576b"
             ],
             [
              0.6666666666666666,
              "#ed7953"
             ],
             [
              0.7777777777777778,
              "#fb9f3a"
             ],
             [
              0.8888888888888888,
              "#fdca26"
             ],
             [
              1,
              "#f0f921"
             ]
            ],
            "type": "surface"
           }
          ],
          "table": [
           {
            "cells": {
             "fill": {
              "color": "#EBF0F8"
             },
             "line": {
              "color": "white"
             }
            },
            "header": {
             "fill": {
              "color": "#C8D4E3"
             },
             "line": {
              "color": "white"
             }
            },
            "type": "table"
           }
          ]
         },
         "layout": {
          "annotationdefaults": {
           "arrowcolor": "#2a3f5f",
           "arrowhead": 0,
           "arrowwidth": 1
          },
          "autotypenumbers": "strict",
          "coloraxis": {
           "colorbar": {
            "outlinewidth": 0,
            "ticks": ""
           }
          },
          "colorscale": {
           "diverging": [
            [
             0,
             "#8e0152"
            ],
            [
             0.1,
             "#c51b7d"
            ],
            [
             0.2,
             "#de77ae"
            ],
            [
             0.3,
             "#f1b6da"
            ],
            [
             0.4,
             "#fde0ef"
            ],
            [
             0.5,
             "#f7f7f7"
            ],
            [
             0.6,
             "#e6f5d0"
            ],
            [
             0.7,
             "#b8e186"
            ],
            [
             0.8,
             "#7fbc41"
            ],
            [
             0.9,
             "#4d9221"
            ],
            [
             1,
             "#276419"
            ]
           ],
           "sequential": [
            [
             0,
             "#0d0887"
            ],
            [
             0.1111111111111111,
             "#46039f"
            ],
            [
             0.2222222222222222,
             "#7201a8"
            ],
            [
             0.3333333333333333,
             "#9c179e"
            ],
            [
             0.4444444444444444,
             "#bd3786"
            ],
            [
             0.5555555555555556,
             "#d8576b"
            ],
            [
             0.6666666666666666,
             "#ed7953"
            ],
            [
             0.7777777777777778,
             "#fb9f3a"
            ],
            [
             0.8888888888888888,
             "#fdca26"
            ],
            [
             1,
             "#f0f921"
            ]
           ],
           "sequentialminus": [
            [
             0,
             "#0d0887"
            ],
            [
             0.1111111111111111,
             "#46039f"
            ],
            [
             0.2222222222222222,
             "#7201a8"
            ],
            [
             0.3333333333333333,
             "#9c179e"
            ],
            [
             0.4444444444444444,
             "#bd3786"
            ],
            [
             0.5555555555555556,
             "#d8576b"
            ],
            [
             0.6666666666666666,
             "#ed7953"
            ],
            [
             0.7777777777777778,
             "#fb9f3a"
            ],
            [
             0.8888888888888888,
             "#fdca26"
            ],
            [
             1,
             "#f0f921"
            ]
           ]
          },
          "colorway": [
           "#636efa",
           "#EF553B",
           "#00cc96",
           "#ab63fa",
           "#FFA15A",
           "#19d3f3",
           "#FF6692",
           "#B6E880",
           "#FF97FF",
           "#FECB52"
          ],
          "font": {
           "color": "#2a3f5f"
          },
          "geo": {
           "bgcolor": "white",
           "lakecolor": "white",
           "landcolor": "#E5ECF6",
           "showlakes": true,
           "showland": true,
           "subunitcolor": "white"
          },
          "hoverlabel": {
           "align": "left"
          },
          "hovermode": "closest",
          "mapbox": {
           "style": "light"
          },
          "paper_bgcolor": "white",
          "plot_bgcolor": "#E5ECF6",
          "polar": {
           "angularaxis": {
            "gridcolor": "white",
            "linecolor": "white",
            "ticks": ""
           },
           "bgcolor": "#E5ECF6",
           "radialaxis": {
            "gridcolor": "white",
            "linecolor": "white",
            "ticks": ""
           }
          },
          "scene": {
           "xaxis": {
            "backgroundcolor": "#E5ECF6",
            "gridcolor": "white",
            "gridwidth": 2,
            "linecolor": "white",
            "showbackground": true,
            "ticks": "",
            "zerolinecolor": "white"
           },
           "yaxis": {
            "backgroundcolor": "#E5ECF6",
            "gridcolor": "white",
            "gridwidth": 2,
            "linecolor": "white",
            "showbackground": true,
            "ticks": "",
            "zerolinecolor": "white"
           },
           "zaxis": {
            "backgroundcolor": "#E5ECF6",
            "gridcolor": "white",
            "gridwidth": 2,
            "linecolor": "white",
            "showbackground": true,
            "ticks": "",
            "zerolinecolor": "white"
           }
          },
          "shapedefaults": {
           "line": {
            "color": "#2a3f5f"
           }
          },
          "ternary": {
           "aaxis": {
            "gridcolor": "white",
            "linecolor": "white",
            "ticks": ""
           },
           "baxis": {
            "gridcolor": "white",
            "linecolor": "white",
            "ticks": ""
           },
           "bgcolor": "#E5ECF6",
           "caxis": {
            "gridcolor": "white",
            "linecolor": "white",
            "ticks": ""
           }
          },
          "title": {
           "x": 0.05
          },
          "xaxis": {
           "automargin": true,
           "gridcolor": "white",
           "linecolor": "white",
           "ticks": "",
           "title": {
            "standoff": 15
           },
           "zerolinecolor": "white",
           "zerolinewidth": 2
          },
          "yaxis": {
           "automargin": true,
           "gridcolor": "white",
           "linecolor": "white",
           "ticks": "",
           "title": {
            "standoff": 15
           },
           "zerolinecolor": "white",
           "zerolinewidth": 2
          }
         }
        }
       }
      }
     },
     "metadata": {},
     "output_type": "display_data"
    }
   ],
   "source": [
    "fig\n",
    "\n",
    "\n"
   ]
  },
  {
   "cell_type": "code",
   "execution_count": null,
   "metadata": {},
   "outputs": [],
   "source": [
    "(\"\")"
   ]
  },
  {
   "cell_type": "code",
   "execution_count": null,
   "metadata": {},
   "outputs": [],
   "source": []
  },
  {
   "cell_type": "code",
   "execution_count": null,
   "metadata": {},
   "outputs": [],
   "source": []
  },
  {
   "cell_type": "code",
   "execution_count": null,
   "metadata": {},
   "outputs": [],
   "source": []
  },
  {
   "cell_type": "code",
   "execution_count": null,
   "metadata": {},
   "outputs": [],
   "source": []
  },
  {
   "cell_type": "code",
   "execution_count": null,
   "metadata": {},
   "outputs": [],
   "source": []
  },
  {
   "cell_type": "code",
   "execution_count": null,
   "metadata": {},
   "outputs": [],
   "source": []
  },
  {
   "cell_type": "code",
   "execution_count": null,
   "metadata": {},
   "outputs": [],
   "source": []
  },
  {
   "cell_type": "code",
   "execution_count": null,
   "metadata": {},
   "outputs": [],
   "source": []
  },
  {
   "cell_type": "code",
   "execution_count": null,
   "metadata": {},
   "outputs": [],
   "source": [
    "     url(\"https://assets.rndtech.de/one/fonts/Inter/Inter-Regular.ttf\""
   ]
  },
  {
   "cell_type": "markdown",
   "metadata": {},
   "source": [
    "# Neuer Versuch"
   ]
  },
  {
   "cell_type": "code",
   "execution_count": null,
   "metadata": {},
   "outputs": [],
   "source": [
    "\"\"\"\n",
    "Zuverlässiger Export von Plots als PNG-Dateien mit mehreren Alternativen\n",
    "für den Fall, dass eine Methode nicht funktioniert\n",
    "\"\"\"\n",
    "\n",
    "import pandas as pd\n",
    "import numpy as np\n",
    "import matplotlib.pyplot as plt\n",
    "import seaborn as sns\n",
    "import os\n",
    "from pathlib import Path\n",
    "import pandas as pd\n",
    "import plotly.graph_objects as go\n",
    "import plotly.io as pio  # Dieser Import ist wichtig!\n",
    "from plotly.io import write_image\n",
    "\n"
   ]
  },
  {
   "cell_type": "code",
   "execution_count": null,
   "metadata": {},
   "outputs": [],
   "source": []
  },
  {
   "cell_type": "code",
   "execution_count": 8,
   "metadata": {},
   "outputs": [],
   "source": [
    "import pandas as pd\n",
    "import plotly.graph_objects as go\n",
    "import plotly.io as pio  # Dieser Import ist wichtig!\n",
    "from plotly.io import write_image\n",
    "fig.write_image(\"test.png\")\n"
   ]
  },
  {
   "cell_type": "code",
   "execution_count": null,
   "metadata": {},
   "outputs": [],
   "source": []
  },
  {
   "cell_type": "code",
   "execution_count": null,
   "metadata": {},
   "outputs": [],
   "source": []
  }
 ],
 "metadata": {
  "kernelspec": {
   "display_name": "newvenv",
   "language": "python",
   "name": "python3"
  },
  "language_info": {
   "codemirror_mode": {
    "name": "ipython",
    "version": 3
   },
   "file_extension": ".py",
   "mimetype": "text/x-python",
   "name": "python",
   "nbconvert_exporter": "python",
   "pygments_lexer": "ipython3",
   "version": "3.13.0"
  }
 },
 "nbformat": 4,
 "nbformat_minor": 2
}
